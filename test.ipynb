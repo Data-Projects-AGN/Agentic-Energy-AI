{
 "cells": [
  {
   "cell_type": "code",
   "execution_count": 1,
   "id": "0853182c",
   "metadata": {},
   "outputs": [
    {
     "name": "stdout",
     "output_type": "stream",
     "text": [
      "/home/abhi_ubuntu/projects/venv/bin/pip\n"
     ]
    }
   ],
   "source": [
    "!which pip"
   ]
  },
  {
   "cell_type": "code",
   "execution_count": 2,
   "id": "d9c399d4",
   "metadata": {},
   "outputs": [
    {
     "name": "stdout",
     "output_type": "stream",
     "text": [
      "/home/abhi_ubuntu/projects/venv/bin/python\n"
     ]
    }
   ],
   "source": [
    "!which python"
   ]
  },
  {
   "cell_type": "code",
   "execution_count": 3,
   "id": "b0152313",
   "metadata": {},
   "outputs": [
    {
     "name": "stderr",
     "output_type": "stream",
     "text": [
      "/home/abhi_ubuntu/projects/venv/lib/python3.12/site-packages/pymilvus/client/__init__.py:6: UserWarning: pkg_resources is deprecated as an API. See https://setuptools.pypa.io/en/latest/pkg_resources.html. The pkg_resources package is slated for removal as early as 2025-11-30. Refrain from using this package or pin to Setuptools<81.\n",
      "  from pkg_resources import DistributionNotFound, get_distribution\n"
     ]
    }
   ],
   "source": [
    "from typing import Iterable, Dict, Any, List, Generator\n",
    "from pymilvus import MilvusClient\n",
    "\n",
    "def _norm_etag(x: str) -> str:\n",
    "    return str(x).strip('\"').strip(\"'\") if x is not None else x\n",
    "\n",
    "def _batched(seq: List[str], n: int) -> Iterable[List[str]]:\n",
    "    for i in range(0, len(seq), n):\n",
    "        yield seq[i:i+n]\n",
    "\n",
    "def _query_existing_etags(client: MilvusClient, collection: str, etags: List[str], etag_field=\"etag\", batch_size=500) -> set:\n",
    "    \"\"\"Check existence in Milvus in IN-batches; returns a set of found etags.\"\"\"\n",
    "    found = set()\n",
    "    for batch in _batched(etags, batch_size):\n",
    "        in_list = \",\".join([f'\"{e}\"' for e in batch])\n",
    "        filt = f'{etag_field} in [{in_list}]'\n",
    "        rows = client.query(\n",
    "            collection_name=collection,\n",
    "            filter=filt,\n",
    "            output_fields=[etag_field],\n",
    "            limit=len(batch)  # enough to capture all matches\n",
    "        )\n",
    "        for r in rows:\n",
    "            val = r.get(etag_field)\n",
    "            if val is not None:\n",
    "                found.add(_norm_etag(val))\n",
    "    return found\n",
    "\n",
    "def iter_new_objects_by_etag(\n",
    "    s3_client,\n",
    "    bucket: str,\n",
    "    prefix: str,\n",
    "    milvus_client: MilvusClient,\n",
    "    collection_name: str,\n",
    "    etag_field: str = \"etag\",\n",
    "    page_batch_check: int = 750,   # size for IN filter per page\n",
    ") -> Generator[Dict[str, Any], None, None]:\n",
    "    \"\"\"\n",
    "    Stream pages from S3/OCI and yield only objects whose ETag is NOT already in Milvus.\n",
    "    Memory-friendly: handles a single page at a time.\n",
    "    \"\"\"\n",
    "    paginator = s3_client.get_paginator(\"list_objects_v2\")\n",
    "    pages = paginator.paginate(Bucket=bucket, Prefix=prefix or \"\")\n",
    "\n",
    "    # ensure collection is loaded (no-op if already loaded)\n",
    "    milvus_client.load_collection(collection_name)\n",
    "\n",
    "    for page in pages:\n",
    "        contents = page.get(\"Contents\", []) or []\n",
    "        if not contents:\n",
    "            continue\n",
    "\n",
    "        # Build a dedup map for the current page only\n",
    "        etag_to_objs: Dict[str, List[Dict[str, Any]]] = {}\n",
    "        for obj in contents:\n",
    "            etg = _norm_etag(obj.get(\"ETag\"))\n",
    "            if not etg:\n",
    "                continue\n",
    "            etag_to_objs.setdefault(etg, []).append(obj)\n",
    "\n",
    "        unique_etags = list(etag_to_objs.keys())\n",
    "\n",
    "        # For large pages, check existence in IN-batches to keep filter size bounded\n",
    "        existing = set()\n",
    "        for sub in _batched(unique_etags, page_batch_check):\n",
    "            existing |= _query_existing_etags(\n",
    "                milvus_client, collection_name, sub, etag_field=etag_field, batch_size=page_batch_check\n",
    "            )\n",
    "\n",
    "        # Yield only new objects from this page\n",
    "        for etg, objs in etag_to_objs.items():\n",
    "            if etg not in existing:\n",
    "                for obj in objs:\n",
    "                    yield obj  # streaming: caller can process/insert immediately\n"
   ]
  },
  {
   "cell_type": "code",
   "execution_count": null,
   "id": "0c7bf028",
   "metadata": {},
   "outputs": [],
   "source": [
    "client = MilvusClient(\"http://YOUR_MILVUS_HOST:19530\")\n",
    "\n",
    "new_objs_iter = iter_new_objects_by_etag(\n",
    "    s3_client=s3_client,\n",
    "    bucket=\"my-bucket\",\n",
    "    prefix=\"optional/prefix/\",\n",
    "    milvus_client=client,\n",
    "    collection_name=\"docs\",     # has dynamic field \"etag\"\n",
    "    etag_field=\"etag\",\n",
    "    page_batch_check=750\n",
    ")\n",
    "\n",
    "# Stream & process (no big lists in memory)\n",
    "for obj in new_objs_iter:\n",
    "    key  = obj[\"Key\"]\n",
    "    etag = obj[\"ETag\"].strip('\"')\n",
    "    # -> download/extract/chunk/embed\n",
    "    # -> insert into Milvus with {\"vector\": ..., \"etag\": etag, \"doc_id\": key, ...}\n"
   ]
  }
 ],
 "metadata": {
  "kernelspec": {
   "display_name": "venv (3.12.3)",
   "language": "python",
   "name": "python3"
  },
  "language_info": {
   "codemirror_mode": {
    "name": "ipython",
    "version": 3
   },
   "file_extension": ".py",
   "mimetype": "text/x-python",
   "name": "python",
   "nbconvert_exporter": "python",
   "pygments_lexer": "ipython3",
   "version": "3.12.3"
  }
 },
 "nbformat": 4,
 "nbformat_minor": 5
}
