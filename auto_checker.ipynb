{
 "cells": [
  {
   "cell_type": "code",
   "execution_count": 80,
   "id": "88d8c880",
   "metadata": {},
   "outputs": [],
   "source": [
    "import sys\n",
    "import os\n",
    "import boto3\n",
    "\n",
    "sys.path.append(\n",
    "    os.path.abspath(\n",
    "        os.path.join(os.getcwd(), '../credentials')\n",
    "    )\n",
    ")\n"
   ]
  },
  {
   "cell_type": "code",
   "execution_count": 81,
   "id": "425d56c7",
   "metadata": {},
   "outputs": [],
   "source": [
    "from credentials import ORACLE_S3_ACCESS_KEY, ORACLE_S3_SECRET_KEY, ORACLE_S3_ENDPOINT, ORACLE_REGION, ORACLE_INGEST_BUCKET"
   ]
  },
  {
   "cell_type": "code",
   "execution_count": 82,
   "id": "ee14e7e9",
   "metadata": {},
   "outputs": [],
   "source": [
    "s3_client = boto3.client(\n",
    "    \"s3\",\n",
    "    aws_access_key_id=ORACLE_S3_ACCESS_KEY,\n",
    "    aws_secret_access_key=ORACLE_S3_SECRET_KEY,\n",
    "    endpoint_url=ORACLE_S3_ENDPOINT\n",
    ")"
   ]
  },
  {
   "cell_type": "code",
   "execution_count": 83,
   "id": "2e98df70",
   "metadata": {},
   "outputs": [],
   "source": [
    "objects = s3_client.list_objects_v2(Bucket=ORACLE_INGEST_BUCKET)"
   ]
  },
  {
   "cell_type": "code",
   "execution_count": 84,
   "id": "7686800c",
   "metadata": {},
   "outputs": [
    {
     "data": {
      "text/plain": [
       "[{'Key': 'April2024.pdf',\n",
       "  'LastModified': datetime.datetime(2025, 8, 22, 21, 53, 26, tzinfo=tzlocal()),\n",
       "  'ETag': '\"b84b5eb4948f442c0ad455041509946e\"',\n",
       "  'Size': 78863,\n",
       "  'StorageClass': 'STANDARD'},\n",
       " {'Key': 'December2023.pdf',\n",
       "  'LastModified': datetime.datetime(2025, 8, 22, 21, 53, 26, tzinfo=tzlocal()),\n",
       "  'ETag': '\"c88be1b3ea330c7b619376b6ed69e96e\"',\n",
       "  'Size': 79388,\n",
       "  'StorageClass': 'STANDARD'},\n",
       " {'Key': 'Feb2024.pdf',\n",
       "  'LastModified': datetime.datetime(2025, 8, 22, 21, 53, 26, tzinfo=tzlocal()),\n",
       "  'ETag': '\"c710b51fe86c1b3d4591be580108a369\"',\n",
       "  'Size': 79336,\n",
       "  'StorageClass': 'STANDARD'},\n",
       " {'Key': 'Jan2024.pdf',\n",
       "  'LastModified': datetime.datetime(2025, 8, 22, 21, 53, 26, tzinfo=tzlocal()),\n",
       "  'ETag': '\"2b0753a753799559fb4fdadd8702ce59\"',\n",
       "  'Size': 78906,\n",
       "  'StorageClass': 'STANDARD'},\n",
       " {'Key': 'March2024.pdf',\n",
       "  'LastModified': datetime.datetime(2025, 8, 22, 21, 53, 26, tzinfo=tzlocal()),\n",
       "  'ETag': '\"b52fdc30107cc39ef339c7b80782a4cc\"',\n",
       "  'Size': 79921,\n",
       "  'StorageClass': 'STANDARD'},\n",
       " {'Key': 'Nov2023.pdf',\n",
       "  'LastModified': datetime.datetime(2025, 8, 22, 21, 53, 26, tzinfo=tzlocal()),\n",
       "  'ETag': '\"8ef5b4b8fe9dd0098932c6f7c4151163\"',\n",
       "  'Size': 79562,\n",
       "  'StorageClass': 'STANDARD'},\n",
       " {'Key': 'October2023.pdf',\n",
       "  'LastModified': datetime.datetime(2025, 8, 22, 21, 53, 26, tzinfo=tzlocal()),\n",
       "  'ETag': '\"8cede8e9593081b7543c00344f897074\"',\n",
       "  'Size': 79056,\n",
       "  'StorageClass': 'STANDARD'},\n",
       " {'Key': 'September2023.pdf',\n",
       "  'LastModified': datetime.datetime(2025, 8, 22, 21, 53, 26, tzinfo=tzlocal()),\n",
       "  'ETag': '\"953f7786a76663cfbe18c669408db85b\"',\n",
       "  'Size': 80570,\n",
       "  'StorageClass': 'STANDARD'}]"
      ]
     },
     "execution_count": 84,
     "metadata": {},
     "output_type": "execute_result"
    }
   ],
   "source": [
    "objects.get(\"Contents\",[])"
   ]
  },
  {
   "cell_type": "code",
   "execution_count": 85,
   "id": "3b69a5d0",
   "metadata": {},
   "outputs": [],
   "source": [
    "from credentials import MILVUS_HOST, MILVUS_PORT, COLLECTION_NAME"
   ]
  },
  {
   "cell_type": "code",
   "execution_count": 97,
   "id": "92e59841",
   "metadata": {},
   "outputs": [],
   "source": [
    "from pymilvus import MilvusClient, Collection\n",
    "\n",
    "# Authentication not enabled\n",
    "client = MilvusClient(\"http://\"+MILVUS_HOST+\":\"+MILVUS_PORT, db_name=\"default\")"
   ]
  },
  {
   "cell_type": "code",
   "execution_count": 98,
   "id": "f4dfa0df",
   "metadata": {},
   "outputs": [
    {
     "data": {
      "text/plain": [
       "['docs', 'energy_vector']"
      ]
     },
     "execution_count": 98,
     "metadata": {},
     "output_type": "execute_result"
    }
   ],
   "source": [
    "client.list_collections()"
   ]
  },
  {
   "cell_type": "code",
   "execution_count": 99,
   "id": "3977c1fd",
   "metadata": {},
   "outputs": [
    {
     "name": "stdout",
     "output_type": "stream",
     "text": [
      "Collection 'energy_vector' already exists.\n"
     ]
    }
   ],
   "source": [
    "\n",
    "\n",
    "if not client.has_collection(COLLECTION_NAME):\n",
    "    client.create_collection(\n",
    "        collection_name=COLLECTION_NAME,\n",
    "        dimension=768,\n",
    "        metric_type=\"COSINE\",\n",
    "        auto_id=True,\n",
    "        enable_dynamic_field=True\n",
    "    )\n",
    "    print(f\"Collection '{COLLECTION_NAME}' created.\")\n",
    "else:\n",
    "    print(f\"Collection '{COLLECTION_NAME}' already exists.\")\n",
    "\n",
    "client.load_collection(COLLECTION_NAME)"
   ]
  },
  {
   "cell_type": "code",
   "execution_count": 100,
   "id": "eff0351e",
   "metadata": {},
   "outputs": [
    {
     "name": "stdout",
     "output_type": "stream",
     "text": [
      "Rows in 'energy_vector': 50\n"
     ]
    }
   ],
   "source": [
    "stats = client.get_collection_stats(collection_name=COLLECTION_NAME)\n",
    "row_count = int(stats[\"row_count\"])\n",
    "print(f\"Rows in '{COLLECTION_NAME}': {row_count}\")"
   ]
  },
  {
   "cell_type": "code",
   "execution_count": null,
   "id": "12bdce68",
   "metadata": {},
   "outputs": [],
   "source": []
  },
  {
   "cell_type": "code",
   "execution_count": 132,
   "id": "68c3ab5f",
   "metadata": {},
   "outputs": [],
   "source": [
    "from typing import Iterable, Dict, Any, List, Generator\n",
    "from pymilvus import MilvusClient\n",
    "\n",
    "def _norm_etag(x: str) -> str:\n",
    "    return str(x).strip('\"').strip(\"'\") if x is not None else x\n",
    "\n",
    "def _batched(seq: List[str], n: int) -> Iterable[List[str]]:\n",
    "    for i in range(0, len(seq), n):\n",
    "        yield seq[i:i+n]\n",
    "\n",
    "def _query_existing_etags(client: MilvusClient, collection: str, etags: List[str], etag_field=\"etag\", batch_size=500) -> set:\n",
    "    \"\"\"Check existence in Milvus in IN-batches; returns a set of found etags.\"\"\"\n",
    "    found = set()\n",
    "    in_list = \",\".join([f'\"{e}\"' for e in etags])\n",
    "    filt = f'{etag_field} in [{in_list}]'\n",
    "    rows = client.query(\n",
    "        collection_name=collection,\n",
    "        filter=filt,\n",
    "        output_fields=[etag_field],\n",
    "    )\n",
    "    \n",
    "    for r in rows:\n",
    "        val = r.get(etag_field)\n",
    "        if val is not None:\n",
    "            found.add(_norm_etag(val))\n",
    "    return found\n",
    "\n",
    "def iter_new_objects_by_etag(\n",
    "    s3_client,\n",
    "    bucket: str,\n",
    "    prefix: str,\n",
    "    milvus_client: MilvusClient,\n",
    "    collection_name: str,\n",
    "    etag_field: str = \"ETag\",\n",
    "    page_batch_check: int = 5,\n",
    ") -> Generator[Dict[str, Any], None, None]:\n",
    "    \"\"\"\n",
    "    Stream pages from S3/OCI and yield only objects whose ETag is NOT already in Milvus.\n",
    "    Memory-friendly: handles a single page at a time.\n",
    "    \"\"\"\n",
    "    paginator = s3_client.get_paginator(\"list_objects_v2\")\n",
    "    pages = paginator.paginate(Bucket=bucket, Prefix=prefix or \"\")\n",
    "\n",
    "\n",
    "    milvus_client.load_collection(collection_name)\n",
    "\n",
    "    for page in pages:\n",
    "        contents = page.get(\"Contents\", []) or []\n",
    "        if not contents:\n",
    "            continue\n",
    "\n",
    "        etag_to_objs: Dict[str, List[Dict[str, Any]]] = {}\n",
    "        for obj in contents:\n",
    "            etg = _norm_etag(obj.get(\"ETag\"))\n",
    "            if not etg:\n",
    "                continue\n",
    "            etag_to_objs.setdefault(etg, []).append(obj)\n",
    "\n",
    "        unique_etags = list(etag_to_objs.keys())\n",
    "\n",
    "        # print(\"unique_etags : \",print(len(unique_etags)), unique_etags)\n",
    "        existing = set()\n",
    "        for sub in _batched(unique_etags, page_batch_check):\n",
    "            existing |= _query_existing_etags(\n",
    "                milvus_client, collection_name, sub, etag_field=etag_field, batch_size=page_batch_check\n",
    "            )\n",
    "        # print(\"existing : \", len(existing),existing)\n",
    "        for etg, objs in etag_to_objs.items():\n",
    "            if etg not in existing:\n",
    "                for obj in objs:\n",
    "                    yield obj\n"
   ]
  },
  {
   "cell_type": "code",
   "execution_count": 133,
   "id": "b61975d2",
   "metadata": {},
   "outputs": [],
   "source": [
    "import io\n",
    "import os\n",
    "from typing import Tuple, List, Dict, Any\n",
    "from pypdf import PdfReader\n",
    "\n",
    "\n",
    "def _is_pdf_key(key: str) -> bool:\n",
    "    return key.lower().endswith(\".pdf\")\n",
    "\n",
    "\n",
    "def read_pdf_from_s3_bytes(s3_client, bucket: str, key: str, max_pages: int = None) -> Tuple[str, List[str], Dict[str, Any]]:\n",
    "    \"\"\"\n",
    "    Download the object into memory (bytes) and extract text.\n",
    "    Returns: (full_text, pages_list, meta)\n",
    "    \"\"\"\n",
    "    resp = s3_client.get_object(Bucket=bucket, Key=key)\n",
    "    body = resp[\"Body\"].read()  # bytes\n",
    "    reader = PdfReader(io.BytesIO(body))\n",
    "\n",
    "    try:\n",
    "        if getattr(reader, \"is_encrypted\", False):\n",
    "            try:\n",
    "                reader.decrypt(\"\")\n",
    "            except Exception:\n",
    "                pass\n",
    "    except Exception:\n",
    "        pass\n",
    "\n",
    "    pages, limit = [], (max_pages or 10**9)\n",
    "    for i, page in enumerate(reader.pages):\n",
    "        if i >= limit:\n",
    "            break\n",
    "        txt = page.extract_text() or \"\"\n",
    "        pages.append(txt)\n",
    "\n",
    "    full_text = \"\\n\\n\".join(pages)\n",
    "    meta = {\n",
    "        \"n_pages_total\": len(reader.pages),\n",
    "        \"n_pages_read\": len(pages),\n",
    "        \"content_length\": resp.get(\"ContentLength\"),\n",
    "        \"content_type\": resp.get(\"ContentType\"),\n",
    "        \"key\": key,\n",
    "        \"bucket\": bucket,\n",
    "    }\n",
    "    return full_text, pages, meta\n"
   ]
  },
  {
   "cell_type": "code",
   "execution_count": 134,
   "id": "dcecbf06",
   "metadata": {},
   "outputs": [
    {
     "name": "stdout",
     "output_type": "stream",
     "text": [
      "April2024.pdf  :  b84b5eb4948f442c0ad455041509946e\n",
      "December2023.pdf  :  c88be1b3ea330c7b619376b6ed69e96e\n",
      "Feb2024.pdf  :  c710b51fe86c1b3d4591be580108a369\n",
      "Jan2024.pdf  :  2b0753a753799559fb4fdadd8702ce59\n",
      "March2024.pdf  :  b52fdc30107cc39ef339c7b80782a4cc\n",
      "Nov2023.pdf  :  8ef5b4b8fe9dd0098932c6f7c4151163\n",
      "October2023.pdf  :  8cede8e9593081b7543c00344f897074\n",
      "September2023.pdf  :  953f7786a76663cfbe18c669408db85b\n"
     ]
    }
   ],
   "source": [
    "new_objs_iter = iter_new_objects_by_etag(\n",
    "    s3_client=s3_client,\n",
    "    bucket=ORACLE_INGEST_BUCKET,\n",
    "    prefix=\"\",\n",
    "    milvus_client=client,\n",
    "    collection_name=COLLECTION_NAME,\n",
    "    etag_field=\"ETag\",\n",
    "    page_batch_check=5\n",
    ")\n",
    "\n",
    "for obj in new_objs_iter:\n",
    "    key  = obj[\"Key\"]\n",
    "    etag = obj[\"ETag\"].strip('\"')\n",
    "    print(key,\" : \",etag)\n",
    "\n",
    "\n",
    "    if not _is_pdf_key(key):\n",
    "        continue\n",
    "\n",
    "    try:\n",
    "        text, pages, meta = read_pdf_from_s3_bytes(s3_client, ORACLE_INGEST_BUCKET, key)\n",
    "        # print(f\"[PDF] {key} | etag={etag} | pages_read={meta['n_pages_read']}/{meta['n_pages_total']}\")\n",
    "\n",
    "        # print(text)\n",
    "\n",
    "    except Exception as e:\n",
    "        print(f\"[skip] {key} ({e})\")"
   ]
  },
  {
   "cell_type": "code",
   "execution_count": 141,
   "id": "84eb2004",
   "metadata": {},
   "outputs": [
    {
     "name": "stdout",
     "output_type": "stream",
     "text": [
      "Length :  21\n",
      "{('Nov2023.pdf', '8ef5b4b8fe9dd0098932c6f7c4151163'), ('October2023.pdf', '8cede8e9593081b7543c00344f897074'), ('September2023.pdf', '953f7786a76663cfbe18c669408db85b'), ('April2024.pdf', 'b84b5eb4948f442c0ad455041509946e'), ('December2023.pdf', 'c88be1b3ea330c7b619376b6ed69e96e'), ('May2024.pdf', 'e6aa5b06e157a910bea8064308b08d2c'), ('March2024.pdf', 'b52fdc30107cc39ef339c7b80782a4cc'), ('Jan2024.pdf', '2b0753a753799559fb4fdadd8702ce59'), ('Feb2024.pdf', 'c710b51fe86c1b3d4591be580108a369')}\n"
     ]
    }
   ],
   "source": [
    "rows = client.query(\n",
    "    collection_name=COLLECTION_NAME,\n",
    "    filter=\"id >= 0\",                 # adjust if your PK name differs\n",
    "    output_fields=[\"id\", \"$meta\"],    # add other fields as needed\n",
    ")\n",
    "\n",
    "print(\"Length : \",len(rows))\n",
    "# for r in rows:\n",
    "#     print(r[\"filename\"])\n",
    "\n",
    "print(set([(i[\"filename\"],i[\"ETag\"]) for i in rows]))"
   ]
  },
  {
   "cell_type": "code",
   "execution_count": null,
   "id": "74cc6c29",
   "metadata": {},
   "outputs": [],
   "source": []
  },
  {
   "cell_type": "code",
   "execution_count": null,
   "id": "5b2ccc59",
   "metadata": {},
   "outputs": [],
   "source": []
  }
 ],
 "metadata": {
  "kernelspec": {
   "display_name": ".venv (3.12.3)",
   "language": "python",
   "name": "python3"
  },
  "language_info": {
   "codemirror_mode": {
    "name": "ipython",
    "version": 3
   },
   "file_extension": ".py",
   "mimetype": "text/x-python",
   "name": "python",
   "nbconvert_exporter": "python",
   "pygments_lexer": "ipython3",
   "version": "3.12.3"
  }
 },
 "nbformat": 4,
 "nbformat_minor": 5
}
