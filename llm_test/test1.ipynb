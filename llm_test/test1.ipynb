{
 "cells": [
  {
   "cell_type": "code",
   "execution_count": 1,
   "id": "978547fd",
   "metadata": {},
   "outputs": [
    {
     "name": "stdout",
     "output_type": "stream",
     "text": [
      "/home/amogh/projects/LLM_projects/LLM_Agentic/agentic_energy_venv/bin/python\n"
     ]
    }
   ],
   "source": [
    "!which python"
   ]
  },
  {
   "cell_type": "code",
   "execution_count": 2,
   "id": "e16343ea",
   "metadata": {},
   "outputs": [
    {
     "data": {
      "text/plain": [
       "True"
      ]
     },
     "execution_count": 2,
     "metadata": {},
     "output_type": "execute_result"
    }
   ],
   "source": [
    "from openai import OpenAI\n",
    "import os\n",
    "from dotenv import load_dotenv\n",
    "load_dotenv() "
   ]
  },
  {
   "cell_type": "code",
   "execution_count": 3,
   "id": "b77f60ff",
   "metadata": {},
   "outputs": [
    {
     "name": "stdout",
     "output_type": "stream",
     "text": [
      "<think>\n",
      "Okay, the user just said \"Hi\". That's a simple greeting, but I need to respond appropriately. \n",
      "\n",
      "Hmm, they didn't ask anything specific, so they might just be testing if I'm responsive or starting a conversation. Since it's a greeting, I should keep it warm and open-ended to encourage further interaction. \n",
      "\n",
      "I recall the guidelines say to return only the final answer, but in this case, the appropriate final answer is a friendly greeting back. No need for elaboration since they didn't pose a question. \n",
      "\n",
      "The tone should match theirs - casual but polite. \"Hello!\" with an exclamation feels\n"
     ]
    }
   ],
   "source": [
    "\n",
    "client = OpenAI(\n",
    "    base_url=\"https://llm.jetstream-cloud.org/api\",\n",
    "    api_key=os.environ[\"JETSTREAM_API_KEY\"],\n",
    ")\n",
    "\n",
    "resp = client.chat.completions.create(\n",
    "    model=\"DeepSeek-R1\",\n",
    "    messages=[\n",
    "        {\"role\": \"system\", \"content\": \"Return only the final answer.\"},\n",
    "        {\"role\": \"user\", \"content\": \"Hi\"}\n",
    "    ],\n",
    "    max_tokens=128,\n",
    "    temperature=0.2\n",
    ")\n",
    "\n",
    "print(resp.choices[0].message.content)\n"
   ]
  },
  {
   "cell_type": "code",
   "execution_count": 6,
   "id": "4d85afca",
   "metadata": {},
   "outputs": [
    {
     "name": "stdout",
     "output_type": "stream",
     "text": [
      "<think>\n",
      "We are given a simple greeting \"Hi\". Since the instruction is to answer briefly and return only the final answer without any reasoning, we should respond with a similar brief greeting.\n",
      "</think>\n",
      "Hi\n"
     ]
    }
   ],
   "source": [
    "client = OpenAI(\n",
    "    base_url=\"https://llm.jetstream-cloud.org/api\",\n",
    "    api_key=os.environ[\"JETSTREAM_API_KEY\"],\n",
    ")\n",
    "\n",
    "resp = client.chat.completions.create(\n",
    "    model=\"DeepSeek-R1\",\n",
    "    messages=[\n",
    "        {\"role\":\"system\",\"content\":\"Answer briefly and return only the final answer. Do not include <think> or any reasoning text.\"},\n",
    "        {\"role\": \"user\", \"content\": \"Hi\"}\n",
    "    ],\n",
    "    max_tokens=128,\n",
    "    temperature=1\n",
    ")\n",
    "\n",
    "print(resp.choices[0].message.content)"
   ]
  },
  {
   "cell_type": "code",
   "execution_count": 5,
   "id": "52f4c868",
   "metadata": {},
   "outputs": [
    {
     "name": "stdout",
     "output_type": "stream",
     "text": [
      "ChatCompletion(id='04f0d9c7abf049df9e881af768d999f6', choices=[Choice(finish_reason='stop', index=0, logprobs=None, message=ChatCompletionMessage(content='<think>\\nWe are given a simple greeting \"Hi\". Since the user has just greeted, the appropriate response is to greet back.\\n</think>\\nHi', refusal=None, role='assistant', annotations=None, audio=None, function_call=None, tool_calls=None), provider_specific_fields={'matched_stop': 1})], created=1757729584, model='DeepSeek-R1', object='chat.completion', service_tier=None, system_fingerprint=None, usage=CompletionUsage(completion_tokens=30, prompt_tokens=23, total_tokens=53, completion_tokens_details=None, prompt_tokens_details=None))\n"
     ]
    }
   ],
   "source": [
    "print(resp)"
   ]
  },
  {
   "cell_type": "code",
   "execution_count": null,
   "id": "d73a8413",
   "metadata": {},
   "outputs": [],
   "source": []
  }
 ],
 "metadata": {
  "kernelspec": {
   "display_name": "agentic_energy_venv",
   "language": "python",
   "name": "python3"
  },
  "language_info": {
   "codemirror_mode": {
    "name": "ipython",
    "version": 3
   },
   "file_extension": ".py",
   "mimetype": "text/x-python",
   "name": "python",
   "nbconvert_exporter": "python",
   "pygments_lexer": "ipython3",
   "version": "3.12.3"
  }
 },
 "nbformat": 4,
 "nbformat_minor": 5
}
