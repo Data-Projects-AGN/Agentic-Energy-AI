{
 "cells": [
  {
   "cell_type": "code",
   "execution_count": 1,
   "id": "bfddcb0a",
   "metadata": {},
   "outputs": [],
   "source": [
    "import sys\n",
    "import os"
   ]
  },
  {
   "cell_type": "code",
   "execution_count": 2,
   "id": "b057629d",
   "metadata": {},
   "outputs": [],
   "source": [
    "sys.path.append(os.path.abspath(os.path.join(os.getcwd(), '../credentials')))"
   ]
  },
  {
   "cell_type": "code",
   "execution_count": null,
   "id": "4d7392dd",
   "metadata": {},
   "outputs": [
    {
     "name": "stdout",
     "output_type": "stream",
     "text": [
      "Collecting boto3\n",
      "  Downloading boto3-1.40.30-py3-none-any.whl.metadata (6.7 kB)\n",
      "Collecting botocore<1.41.0,>=1.40.30 (from boto3)\n",
      "  Downloading botocore-1.40.30-py3-none-any.whl.metadata (5.7 kB)\n",
      "Collecting jmespath<2.0.0,>=0.7.1 (from boto3)\n",
      "  Downloading jmespath-1.0.1-py3-none-any.whl.metadata (7.6 kB)\n",
      "Collecting s3transfer<0.15.0,>=0.14.0 (from boto3)\n",
      "  Downloading s3transfer-0.14.0-py3-none-any.whl.metadata (1.7 kB)\n",
      "Requirement already satisfied: python-dateutil<3.0.0,>=2.1 in /home/alvan/projects/agentic_ai/agent_env/lib/python3.12/site-packages (from botocore<1.41.0,>=1.40.30->boto3) (2.9.0.post0)\n",
      "Collecting urllib3!=2.2.0,<3,>=1.25.4 (from botocore<1.41.0,>=1.40.30->boto3)\n",
      "  Downloading urllib3-2.5.0-py3-none-any.whl.metadata (6.5 kB)\n",
      "Requirement already satisfied: six>=1.5 in /home/alvan/projects/agentic_ai/agent_env/lib/python3.12/site-packages (from python-dateutil<3.0.0,>=2.1->botocore<1.41.0,>=1.40.30->boto3) (1.17.0)\n",
      "Downloading boto3-1.40.30-py3-none-any.whl (139 kB)\n",
      "\u001b[2K   \u001b[90m━━━━━━━━━━━━━━━━━━━━━━━━━━━━━━━━━━━━━━━━\u001b[0m \u001b[32m139.3/139.3 kB\u001b[0m \u001b[31m2.0 MB/s\u001b[0m eta \u001b[36m0:00:00\u001b[0ma \u001b[36m0:00:01\u001b[0m\n",
      "\u001b[?25hDownloading botocore-1.40.30-py3-none-any.whl (14.0 MB)\n",
      "\u001b[2K   \u001b[90m━━━━━━━━━━━━━━━━━━━━━━━━━━━━━━━━━━━━━━━━\u001b[0m \u001b[32m14.0/14.0 MB\u001b[0m \u001b[31m19.8 MB/s\u001b[0m eta \u001b[36m0:00:00\u001b[0m00:01\u001b[0m00:01\u001b[0m\n",
      "\u001b[?25hDownloading jmespath-1.0.1-py3-none-any.whl (20 kB)\n",
      "Downloading s3transfer-0.14.0-py3-none-any.whl (85 kB)\n",
      "\u001b[2K   \u001b[90m━━━━━━━━━━━━━━━━━━━━━━━━━━━━━━━━━━━━━━━━\u001b[0m \u001b[32m85.7/85.7 kB\u001b[0m \u001b[31m3.4 MB/s\u001b[0m eta \u001b[36m0:00:00\u001b[0m\n",
      "\u001b[?25hDownloading urllib3-2.5.0-py3-none-any.whl (129 kB)\n",
      "\u001b[2K   \u001b[90m━━━━━━━━━━━━━━━━━━━━━━━━━━━━━━━━━━━━━━━━\u001b[0m \u001b[32m129.8/129.8 kB\u001b[0m \u001b[31m3.7 MB/s\u001b[0m eta \u001b[36m0:00:00\u001b[0m\n",
      "\u001b[?25hInstalling collected packages: urllib3, jmespath, botocore, s3transfer, boto3\n",
      "Successfully installed boto3-1.40.30 botocore-1.40.30 jmespath-1.0.1 s3transfer-0.14.0 urllib3-2.5.0\n",
      "Note: you may need to restart the kernel to use updated packages.\n"
     ]
    }
   ],
   "source": [
    "# pip install boto3"
   ]
  },
  {
   "cell_type": "code",
   "execution_count": 3,
   "id": "016f015e",
   "metadata": {},
   "outputs": [
    {
     "name": "stdout",
     "output_type": "stream",
     "text": [
      "Successfully connected to OCI Object Storage.\n"
     ]
    }
   ],
   "source": [
    "import boto3\n",
    "from botocore.config import Config\n",
    "from credentials import (\n",
    "    ORACLE_S3_ACCESS_KEY,\n",
    "    ORACLE_S3_SECRET_KEY,\n",
    "    ORACLE_S3_ENDPOINT,\n",
    "    ORACLE_REGION,\n",
    "    ORACLE_INGEST_BUCKET,\n",
    "    ORACLE_JSON_DESTINATION_BUCKET\n",
    ")\n",
    "\n",
    "# Set up the S3 client configuration\n",
    "# The 'signature_version' is crucial for OCI's S3 compatibility\n",
    "s3_config = Config(\n",
    "    signature_version='s3v4',\n",
    "    region_name=ORACLE_REGION\n",
    ")\n",
    "\n",
    "# Connect to OCI Object Storage using the S3 client\n",
    "try:\n",
    "    s3_client = boto3.client(\n",
    "        's3',\n",
    "        endpoint_url=ORACLE_S3_ENDPOINT,\n",
    "        aws_access_key_id=ORACLE_S3_ACCESS_KEY,\n",
    "        aws_secret_access_key=ORACLE_S3_SECRET_KEY,\n",
    "        config=s3_config\n",
    "    )\n",
    "    print(\"Successfully connected to OCI Object Storage.\")\n",
    "\n",
    "except Exception as e:\n",
    "    print(f\"Error connecting to OCI Object Storage: {e}\")\n",
    "    exit()\n"
   ]
  },
  {
   "cell_type": "code",
   "execution_count": 4,
   "id": "c9f1331e",
   "metadata": {},
   "outputs": [
    {
     "name": "stdout",
     "output_type": "stream",
     "text": [
      "\n",
      "Listing objects in the 'energy-bills-raw' bucket...\n",
      "  - April2024.pdf\n",
      "  - December2023.pdf\n",
      "  - Feb2024.pdf\n",
      "  - Jan2024.pdf\n",
      "  - March2024.pdf\n",
      "  - Nov2023.pdf\n",
      "  - October2023.pdf\n",
      "  - September2023.pdf\n"
     ]
    }
   ],
   "source": [
    "try:\n",
    "    print(f\"\\nListing objects in the '{ORACLE_INGEST_BUCKET}' bucket...\")\n",
    "    response = s3_client.list_objects_v2(Bucket=ORACLE_INGEST_BUCKET)\n",
    "\n",
    "    if 'Contents' in response:\n",
    "        for obj in response['Contents']:\n",
    "            print(f\"  - {obj['Key']}\")\n",
    "    else:\n",
    "        print(\"  - The bucket is empty or not found.\")\n",
    "\n",
    "except Exception as e:\n",
    "    print(f\"Error listing objects: {e}\")"
   ]
  },
  {
   "cell_type": "code",
   "execution_count": null,
   "id": "190f4bd5",
   "metadata": {},
   "outputs": [
    {
     "name": "stdout",
     "output_type": "stream",
     "text": [
      "Collecting pymilvus<2.5,>=2.4\n",
      "  Downloading pymilvus-2.4.15-py3-none-any.whl.metadata (5.7 kB)\n",
      "Collecting setuptools>69 (from pymilvus<2.5,>=2.4)\n",
      "  Downloading setuptools-80.9.0-py3-none-any.whl.metadata (6.6 kB)\n",
      "Collecting grpcio<=1.67.1,>=1.49.1 (from pymilvus<2.5,>=2.4)\n",
      "  Downloading grpcio-1.67.1-cp312-cp312-manylinux_2_17_x86_64.manylinux2014_x86_64.whl.metadata (3.9 kB)\n",
      "Collecting protobuf>=3.20.0 (from pymilvus<2.5,>=2.4)\n",
      "  Downloading protobuf-6.32.1-cp39-abi3-manylinux2014_x86_64.whl.metadata (593 bytes)\n",
      "Collecting python-dotenv<2.0.0,>=1.0.1 (from pymilvus<2.5,>=2.4)\n",
      "  Downloading python_dotenv-1.1.1-py3-none-any.whl.metadata (24 kB)\n",
      "Collecting ujson>=2.0.0 (from pymilvus<2.5,>=2.4)\n",
      "  Downloading ujson-5.11.0-cp312-cp312-manylinux_2_24_x86_64.manylinux_2_28_x86_64.whl.metadata (9.4 kB)\n",
      "Collecting pandas>=1.2.4 (from pymilvus<2.5,>=2.4)\n",
      "  Downloading pandas-2.3.2-cp312-cp312-manylinux_2_17_x86_64.manylinux2014_x86_64.whl.metadata (91 kB)\n",
      "\u001b[2K     \u001b[90m━━━━━━━━━━━━━━━━━━━━━━━━━━━━━━━━━━━━━━━━\u001b[0m \u001b[32m91.2/91.2 kB\u001b[0m \u001b[31m1.7 MB/s\u001b[0m eta \u001b[36m0:00:00\u001b[0ma \u001b[36m0:00:01\u001b[0m\n",
      "\u001b[?25hCollecting milvus-lite<2.5.0,>=2.4.0 (from pymilvus<2.5,>=2.4)\n",
      "  Downloading milvus_lite-2.4.12-py3-none-manylinux2014_x86_64.whl.metadata (10.0 kB)\n",
      "Collecting tqdm (from milvus-lite<2.5.0,>=2.4.0->pymilvus<2.5,>=2.4)\n",
      "  Downloading tqdm-4.67.1-py3-none-any.whl.metadata (57 kB)\n",
      "\u001b[2K     \u001b[90m━━━━━━━━━━━━━━━━━━━━━━━━━━━━━━━━━━━━━━━━\u001b[0m \u001b[32m57.7/57.7 kB\u001b[0m \u001b[31m1.8 MB/s\u001b[0m eta \u001b[36m0:00:00\u001b[0m\n",
      "\u001b[?25hCollecting numpy>=1.26.0 (from pandas>=1.2.4->pymilvus<2.5,>=2.4)\n",
      "  Downloading numpy-2.3.3-cp312-cp312-manylinux_2_27_x86_64.manylinux_2_28_x86_64.whl.metadata (62 kB)\n",
      "\u001b[2K     \u001b[90m━━━━━━━━━━━━━━━━━━━━━━━━━━━━━━━━━━━━━━━━\u001b[0m \u001b[32m62.1/62.1 kB\u001b[0m \u001b[31m1.7 MB/s\u001b[0m eta \u001b[36m0:00:00\u001b[0m\n",
      "\u001b[?25hRequirement already satisfied: python-dateutil>=2.8.2 in /home/alvan/projects/agentic_ai/agent_env/lib/python3.12/site-packages (from pandas>=1.2.4->pymilvus<2.5,>=2.4) (2.9.0.post0)\n",
      "Collecting pytz>=2020.1 (from pandas>=1.2.4->pymilvus<2.5,>=2.4)\n",
      "  Downloading pytz-2025.2-py2.py3-none-any.whl.metadata (22 kB)\n",
      "Collecting tzdata>=2022.7 (from pandas>=1.2.4->pymilvus<2.5,>=2.4)\n",
      "  Downloading tzdata-2025.2-py2.py3-none-any.whl.metadata (1.4 kB)\n",
      "Requirement already satisfied: six>=1.5 in /home/alvan/projects/agentic_ai/agent_env/lib/python3.12/site-packages (from python-dateutil>=2.8.2->pandas>=1.2.4->pymilvus<2.5,>=2.4) (1.17.0)\n",
      "Downloading pymilvus-2.4.15-py3-none-any.whl (212 kB)\n",
      "\u001b[2K   \u001b[90m━━━━━━━━━━━━━━━━━━━━━━━━━━━━━━━━━━━━━━━━\u001b[0m \u001b[32m212.3/212.3 kB\u001b[0m \u001b[31m4.6 MB/s\u001b[0m eta \u001b[36m0:00:00\u001b[0ma \u001b[36m0:00:01\u001b[0m\n",
      "\u001b[?25hDownloading grpcio-1.67.1-cp312-cp312-manylinux_2_17_x86_64.manylinux2014_x86_64.whl (5.9 MB)\n",
      "\u001b[2K   \u001b[90m━━━━━━━━━━━━━━━━━━━━━━━━━━━━━━━━━━━━━━━━\u001b[0m \u001b[32m5.9/5.9 MB\u001b[0m \u001b[31m19.2 MB/s\u001b[0m eta \u001b[36m0:00:00\u001b[0m00:01\u001b[0m00:01\u001b[0m\n",
      "\u001b[?25hDownloading milvus_lite-2.4.12-py3-none-manylinux2014_x86_64.whl (45.2 MB)\n",
      "\u001b[2K   \u001b[90m━━━━━━━━━━━━━━━━━━━━━━━━━━━━━━━━━━━━━━━━\u001b[0m \u001b[32m45.2/45.2 MB\u001b[0m \u001b[31m13.4 MB/s\u001b[0m eta \u001b[36m0:00:00\u001b[0m00:01\u001b[0m00:01\u001b[0m\n",
      "\u001b[?25hDownloading pandas-2.3.2-cp312-cp312-manylinux_2_17_x86_64.manylinux2014_x86_64.whl (12.0 MB)\n",
      "\u001b[2K   \u001b[90m━━━━━━━━━━━━━━━━━━━━━━━━━━━━━━━━━━━━━━━━\u001b[0m \u001b[32m12.0/12.0 MB\u001b[0m \u001b[31m20.3 MB/s\u001b[0m eta \u001b[36m0:00:00\u001b[0m00:01\u001b[0m00:01\u001b[0m\n",
      "\u001b[?25hDownloading protobuf-6.32.1-cp39-abi3-manylinux2014_x86_64.whl (322 kB)\n",
      "\u001b[2K   \u001b[90m━━━━━━━━━━━━━━━━━━━━━━━━━━━━━━━━━━━━━━━━\u001b[0m \u001b[32m322.0/322.0 kB\u001b[0m \u001b[31m12.1 MB/s\u001b[0m eta \u001b[36m0:00:00\u001b[0m\n",
      "\u001b[?25hDownloading python_dotenv-1.1.1-py3-none-any.whl (20 kB)\n",
      "Downloading setuptools-80.9.0-py3-none-any.whl (1.2 MB)\n",
      "\u001b[2K   \u001b[90m━━━━━━━━━━━━━━━━━━━━━━━━━━━━━━━━━━━━━━━━\u001b[0m \u001b[32m1.2/1.2 MB\u001b[0m \u001b[31m18.4 MB/s\u001b[0m eta \u001b[36m0:00:00\u001b[0ma \u001b[36m0:00:01\u001b[0m\n",
      "\u001b[?25hDownloading ujson-5.11.0-cp312-cp312-manylinux_2_24_x86_64.manylinux_2_28_x86_64.whl (57 kB)\n",
      "\u001b[2K   \u001b[90m━━━━━━━━━━━━━━━━━━━━━━━━━━━━━━━━━━━━━━━━\u001b[0m \u001b[32m57.4/57.4 kB\u001b[0m \u001b[31m2.0 MB/s\u001b[0m eta \u001b[36m0:00:00\u001b[0m\n",
      "\u001b[?25hDownloading numpy-2.3.3-cp312-cp312-manylinux_2_27_x86_64.manylinux_2_28_x86_64.whl (16.6 MB)\n",
      "\u001b[2K   \u001b[90m━━━━━━━━━━━━━━━━━━━━━━━━━━━━━━━━━━━━━━━━\u001b[0m \u001b[32m16.6/16.6 MB\u001b[0m \u001b[31m20.0 MB/s\u001b[0m eta \u001b[36m0:00:00\u001b[0m00:01\u001b[0m00:01\u001b[0m\n",
      "\u001b[?25hDownloading pytz-2025.2-py2.py3-none-any.whl (509 kB)\n",
      "\u001b[2K   \u001b[90m━━━━━━━━━━━━━━━━━━━━━━━━━━━━━━━━━━━━━━━━\u001b[0m \u001b[32m509.2/509.2 kB\u001b[0m \u001b[31m17.9 MB/s\u001b[0m eta \u001b[36m0:00:00\u001b[0m\n",
      "\u001b[?25hDownloading tzdata-2025.2-py2.py3-none-any.whl (347 kB)\n",
      "\u001b[2K   \u001b[90m━━━━━━━━━━━━━━━━━━━━━━━━━━━━━━━━━━━━━━━━\u001b[0m \u001b[32m347.8/347.8 kB\u001b[0m \u001b[31m15.1 MB/s\u001b[0m eta \u001b[36m0:00:00\u001b[0m\n",
      "\u001b[?25hDownloading tqdm-4.67.1-py3-none-any.whl (78 kB)\n",
      "\u001b[2K   \u001b[90m━━━━━━━━━━━━━━━━━━━━━━━━━━━━━━━━━━━━━━━━\u001b[0m \u001b[32m78.5/78.5 kB\u001b[0m \u001b[31m4.2 MB/s\u001b[0m eta \u001b[36m0:00:00\u001b[0m\n",
      "\u001b[?25hInstalling collected packages: pytz, ujson, tzdata, tqdm, setuptools, python-dotenv, protobuf, numpy, grpcio, pandas, milvus-lite, pymilvus\n",
      "Successfully installed grpcio-1.67.1 milvus-lite-2.4.12 numpy-2.3.3 pandas-2.3.2 protobuf-6.32.1 pymilvus-2.4.15 python-dotenv-1.1.1 pytz-2025.2 setuptools-80.9.0 tqdm-4.67.1 tzdata-2025.2 ujson-5.11.0\n",
      "Note: you may need to restart the kernel to use updated packages.\n"
     ]
    }
   ],
   "source": [
    "# pip install \"pymilvus>=2.4,<2.5\""
   ]
  },
  {
   "cell_type": "code",
   "execution_count": 30,
   "id": "1d389693",
   "metadata": {},
   "outputs": [],
   "source": [
    "from credentials import MILVUS_PORT, MILVUS_HOST, COLLECTION_NAME"
   ]
  },
  {
   "cell_type": "code",
   "execution_count": 6,
   "id": "88827c8a",
   "metadata": {},
   "outputs": [
    {
     "name": "stderr",
     "output_type": "stream",
     "text": [
      "/home/alvan/projects/agentic_ai/agent_env/lib/python3.12/site-packages/pymilvus/client/__init__.py:6: UserWarning: pkg_resources is deprecated as an API. See https://setuptools.pypa.io/en/latest/pkg_resources.html. The pkg_resources package is slated for removal as early as 2025-11-30. Refrain from using this package or pin to Setuptools<81.\n",
      "  from pkg_resources import DistributionNotFound, get_distribution\n"
     ]
    },
    {
     "name": "stdout",
     "output_type": "stream",
     "text": [
      "Successfully connected to Milvus!\n"
     ]
    }
   ],
   "source": [
    "from pymilvus import MilvusClient\n",
    "\n",
    "# The connection details from your credentials file.\n",
    "# Replace with your actual host and port.\n",
    "MILVUS_HOST = MILVUS_HOST  \n",
    "MILVUS_PORT = MILVUS_PORT          \n",
    "\n",
    "# 1. Connect to the Milvus server\n",
    "try:\n",
    "    client = MilvusClient(\n",
    "        uri=f\"http://{MILVUS_HOST}:{MILVUS_PORT}\"\n",
    "    )\n",
    "    print(\"Successfully connected to Milvus!\")\n",
    "\n",
    "except Exception as e:\n",
    "    print(f\"Failed to connect to Milvus: {e}\")\n",
    "    exit()"
   ]
  },
  {
   "cell_type": "code",
   "execution_count": 34,
   "id": "6ff0800a",
   "metadata": {},
   "outputs": [
    {
     "name": "stdout",
     "output_type": "stream",
     "text": [
      "\n",
      "Collections in the database: ['docs', 'energy_vector']\n"
     ]
    }
   ],
   "source": [
    "collections = client.list_collections()\n",
    "print(\"\\nCollections in the database:\", collections)"
   ]
  },
  {
   "cell_type": "code",
   "execution_count": 35,
   "id": "7b107a2e",
   "metadata": {},
   "outputs": [],
   "source": [
    "collection_name = collections[1]"
   ]
  },
  {
   "cell_type": "code",
   "execution_count": 36,
   "id": "79890387",
   "metadata": {},
   "outputs": [
    {
     "data": {
      "text/plain": [
       "{'row_count': 0}"
      ]
     },
     "execution_count": 36,
     "metadata": {},
     "output_type": "execute_result"
    }
   ],
   "source": [
    "collection_stats = client.get_collection_stats(collection_name)\n",
    "collection_stats"
   ]
  },
  {
   "cell_type": "code",
   "execution_count": 37,
   "id": "f0c687b1",
   "metadata": {},
   "outputs": [
    {
     "name": "stdout",
     "output_type": "stream",
     "text": [
      "Query Results (first 10):\n",
      "{'vector': [np.float32(0.82497954), np.float32(1.1648967), np.float32(-2.7661426), np.float32(-0.55608034), np.float32(1.0111715), np.float32(-0.40988874), np.float32(0.90548927), np.float32(0.6253312), np.float32(0.19057314), np.float32(0.15139095), np.float32(-0.1603604), np.float32(0.2683458), np.float32(2.3208985), np.float32(0.74851036), np.float32(0.6898732), np.float32(-0.51391554), np.float32(0.18298595), np.float32(-0.28345317), np.float32(0.124917164), np.float32(0.90986085), np.float32(0.18148431), np.float32(-0.835689), np.float32(0.18238415), np.float32(-0.45293692), np.float32(0.37958747), np.float32(0.7100289), np.float32(0.50999665), np.float32(-0.17926508), np.float32(-0.78981054), np.float32(0.31809667), np.float32(1.2976608), np.float32(0.3029499), np.float32(0.7478078), np.float32(-0.8099556), np.float32(-0.24616012), np.float32(-0.85072726), np.float32(0.8057088), np.float32(-0.6698336), np.float32(0.46065092), np.float32(-0.5885373), np.float32(-0.23415548), np.float32(0.29829174), np.float32(0.5709099), np.float32(-0.7984321), np.float32(1.1645409), np.float32(-0.09107768), np.float32(1.0737177), np.float32(0.09419861), np.float32(0.65815127), np.float32(-0.5340312), np.float32(0.4386607), np.float32(0.18094502), np.float32(-0.018826213), np.float32(0.5924434), np.float32(1.0525845), np.float32(0.0527013), np.float32(-0.46986368), np.float32(0.76568055), np.float32(-0.10833155), np.float32(-1.3544718), np.float32(1.6702582), np.float32(0.6187186), np.float32(0.16709767), np.float32(0.8666982), np.float32(0.49544558), np.float32(-0.3934934), np.float32(0.075973704), np.float32(0.15443778), np.float32(-0.040217463), np.float32(-0.8102268), np.float32(0.6504235), np.float32(-0.6479353), np.float32(-0.29054826), np.float32(-0.47553232), np.float32(-0.41400033), np.float32(0.24636197), np.float32(-0.38771844), np.float32(-1.0545372), np.float32(-0.5791391), np.float32(0.4339114), np.float32(0.79933906), np.float32(-0.55390584), np.float32(0.90332985), np.float32(0.007696313), np.float32(0.13941857), np.float32(0.25792813), np.float32(0.29791948), np.float32(-0.490326), np.float32(-0.9114217), np.float32(1.2699374), np.float32(0.27750945), np.float32(0.38349524), np.float32(-0.29344106), np.float32(0.7526531), np.float32(-1.2435197), np.float32(0.6570635), np.float32(-0.32332867), np.float32(0.276945), np.float32(-0.52748483), np.float32(-0.49121112), np.float32(-0.79552895), np.float32(-0.5316331), np.float32(0.14937481), np.float32(0.30055562), np.float32(0.11058667), np.float32(1.080714), np.float32(-0.19529903), np.float32(0.1305374), np.float32(0.027133675), np.float32(0.89839923), np.float32(-1.057098), np.float32(0.32257035), np.float32(-0.9853054), np.float32(0.16006051), np.float32(0.6202161), np.float32(-0.4299042), np.float32(1.7810187), np.float32(-0.6599797), np.float32(-0.3428143), np.float32(0.067533545), np.float32(-0.6512675), np.float32(-0.9998819), np.float32(0.73464936), np.float32(-0.15949734), np.float32(0.74355745), np.float32(0.58059293), np.float32(-1.240769), np.float32(-0.91080785), np.float32(0.34034544), np.float32(0.071163), np.float32(-0.2872697), np.float32(-0.37056184), np.float32(-0.75822043), np.float32(-0.26934916), np.float32(0.70836127), np.float32(1.0435159), np.float32(-0.7574153), np.float32(-0.33941302), np.float32(0.023299247), np.float32(0.4731122), np.float32(0.9436777), np.float32(-0.24095646), np.float32(-0.041705072), np.float32(-0.1587718), np.float32(0.8796811), np.float32(-0.39260018), np.float32(-0.35054854), np.float32(-0.061555408), np.float32(-0.70519996), np.float32(-0.17592618), np.float32(-0.33315685), np.float32(0.35509083), np.float32(0.099583425), np.float32(0.4562693), np.float32(0.009253382), np.float32(-1.0759047), np.float32(-0.8219044), np.float32(0.001989524), np.float32(-0.16104153), np.float32(0.8458104), np.float32(0.64504313), np.float32(0.09529721), np.float32(-0.3372371), np.float32(0.537791), np.float32(0.13786092), np.float32(-0.89497304), np.float32(0.08893492), np.float32(-0.39412168), np.float32(1.2370628), np.float32(0.7936485), np.float32(-0.86577654), np.float32(-0.6541856), np.float32(0.41175023), np.float32(-0.5966292), np.float32(0.95249486), np.float32(0.30522352), np.float32(1.525866), np.float32(-0.04255402), np.float32(0.8787375), np.float32(-0.8831536), np.float32(0.76264215), np.float32(-1.2029077), np.float32(0.4833649), np.float32(1.0042828), np.float32(-0.5645548), np.float32(-0.117316306), np.float32(0.9583601), np.float32(-0.031828005), np.float32(-0.9970842), np.float32(-0.9014085), np.float32(0.2908217), np.float32(0.0016838718), np.float32(-1.1301152), np.float32(0.2956746), np.float32(-0.92856395), np.float32(-0.55175257), np.float32(1.4712281), np.float32(-0.93967205), np.float32(0.52029616), np.float32(-1.3386339), np.float32(0.32158294), np.float32(0.49932018), np.float32(-0.77239895), np.float32(1.0439293), np.float32(-0.49876955), np.float32(0.46305788), np.float32(0.21238564), np.float32(0.37970832), np.float32(0.016947182), np.float32(-0.43698275), np.float32(0.9909791), np.float32(-0.26268938), np.float32(-0.23793538), np.float32(0.84904665), np.float32(0.39102748), np.float32(-0.29320818), np.float32(-0.4605209), np.float32(-0.5378185), np.float32(-0.09199138), np.float32(0.7099359), np.float32(0.18860248), np.float32(-0.5260155), np.float32(-0.35541677), np.float32(0.6767401), np.float32(0.5896949), np.float32(-0.39722088), np.float32(-1.0969081), np.float32(0.069579944), np.float32(-0.43063864), np.float32(0.020380877), np.float32(-0.16395666), np.float32(-1.2460265), np.float32(1.3824338), np.float32(-0.48389602), np.float32(0.3663004), np.float32(0.7791845), np.float32(-0.03562028), np.float32(0.5990046), np.float32(-0.04105371), np.float32(0.5897474), np.float32(-0.091402404), np.float32(-0.21875747), np.float32(0.37515688), np.float32(-1.0396663), np.float32(-0.8638084), np.float32(-0.5847161), np.float32(-0.12641864), np.float32(-0.4132698), np.float32(-0.3068741), np.float32(0.47708327), np.float32(-0.08518302), np.float32(0.82650125), np.float32(0.7370815), np.float32(0.10970224), np.float32(0.7266694), np.float32(-1.0255538), np.float32(-0.5320776), np.float32(0.41898748), np.float32(0.009777861), np.float32(-0.124368735), np.float32(0.3591344), np.float32(-0.17728773), np.float32(0.9510016), np.float32(-0.69680005), np.float32(-0.3921559), np.float32(0.29808268), np.float32(-1.2616652), np.float32(-1.2718897), np.float32(0.44990122), np.float32(-0.38420472), np.float32(0.067642756), np.float32(0.30976114), np.float32(-0.048807614), np.float32(0.84825915), np.float32(0.11581767), np.float32(-0.28494695), np.float32(0.12857313), np.float32(0.35311517), np.float32(0.14675102), np.float32(1.0049875), np.float32(-0.46295124), np.float32(-1.2436483), np.float32(-0.43113577), np.float32(0.77767754), np.float32(-0.2871267), np.float32(1.0573157), np.float32(-0.039362114), np.float32(0.43168947), np.float32(0.40112048), np.float32(0.18645939), np.float32(1.1627938), np.float32(0.5185247), np.float32(0.0629353), np.float32(0.39076892), np.float32(-0.49167335), np.float32(0.00059562514), np.float32(0.7387464), np.float32(-1.1910632), np.float32(0.0004238838), np.float32(-0.41662428), np.float32(0.04595098), np.float32(0.82689553), np.float32(1.4713829), np.float32(-0.037030093), np.float32(0.096403785), np.float32(-0.31613165), np.float32(-0.43566892), np.float32(-0.3350141), np.float32(-0.11697441), np.float32(-0.19924425), np.float32(-0.4202963), np.float32(-0.21827614), np.float32(-1.5438021), np.float32(0.0096793575), np.float32(-0.8053377), np.float32(0.10740309), np.float32(0.8780616), np.float32(-0.4827948), np.float32(1.1027205), np.float32(0.050644834), np.float32(0.018267302), np.float32(-0.8559975), np.float32(-0.452847), np.float32(-0.8979781), np.float32(0.90984535), np.float32(0.89213216), np.float32(-0.41250247), np.float32(0.49365598), np.float32(-0.38042814), np.float32(0.79878736), np.float32(0.00041112758), np.float32(0.8604967), np.float32(0.8904547), np.float32(-0.7087067), np.float32(-0.5148), np.float32(-0.08765566), np.float32(-0.3660907), np.float32(-0.22663568), np.float32(0.5319599), np.float32(0.56861115), np.float32(1.1514198), np.float32(-0.3623478), np.float32(0.37912858), np.float32(-0.6518199), np.float32(-0.8803154), np.float32(0.13329466), np.float32(0.20899035), np.float32(-0.48825175), np.float32(0.18844815), np.float32(0.1825053), np.float32(-0.20764966), np.float32(0.07206701), np.float32(-0.6901462), np.float32(-0.7389245), np.float32(0.6940607), np.float32(-0.5306475), np.float32(0.039895166), np.float32(0.94474214), np.float32(-0.46387002), np.float32(-0.049213134), np.float32(0.6962099), np.float32(0.56586546), np.float32(-0.03719052), np.float32(-0.45917368), np.float32(0.1242767), np.float32(0.6282499), np.float32(1.4369866), np.float32(-0.038651317), np.float32(-0.3649944), np.float32(0.18498589), np.float32(-0.26373252), np.float32(-1.1255198), np.float32(-0.77291083), np.float32(0.731262), np.float32(0.22361082), np.float32(0.22640939), np.float32(-0.5928126), np.float32(-0.1711226), np.float32(-0.041130044), np.float32(0.8515946), np.float32(0.95358473), np.float32(-0.62246096), np.float32(0.14294547), np.float32(0.072815806), np.float32(-0.23270312), np.float32(-0.7191329), np.float32(0.401606), np.float32(-0.6424549), np.float32(-0.29899412), np.float32(0.27310815), np.float32(-0.0442054), np.float32(-0.5257323), np.float32(-0.04875726), np.float32(-0.45739597), np.float32(0.46470675), np.float32(0.044751845), np.float32(0.4714294), np.float32(0.043853406), np.float32(0.117848895), np.float32(1.6731069), np.float32(-1.3284146), np.float32(-1.0415412), np.float32(0.18454497), np.float32(-0.17666721), np.float32(-0.3841308), np.float32(0.18430561), np.float32(-1.0208517), np.float32(-0.80472165), np.float32(-0.5860802), np.float32(0.23093759), np.float32(0.947195), np.float32(0.18875737), np.float32(0.44052958), np.float32(-0.3314792), np.float32(0.15266885), np.float32(-0.21417537), np.float32(1.2756495), np.float32(-0.67474335), np.float32(-0.6155361), np.float32(-0.109020814), np.float32(0.260292), np.float32(0.16951394), np.float32(0.010315088), np.float32(0.32342273), np.float32(0.5770333), np.float32(1.1073376), np.float32(0.44298255), np.float32(0.375882), np.float32(-0.2525126), np.float32(-0.76433027), np.float32(0.16335115), np.float32(0.9553106), np.float32(0.8877962), np.float32(-0.43539867), np.float32(-0.7087154), np.float32(0.40098163), np.float32(0.5145154), np.float32(-0.14083464), np.float32(0.2118065), np.float32(0.4329594), np.float32(0.56557864), np.float32(-1.1313474), np.float32(-0.7759568), np.float32(-0.59440106), np.float32(0.10828327), np.float32(1.6976783), np.float32(0.8540609), np.float32(0.01206082), np.float32(-0.8083817), np.float32(0.3429589), np.float32(0.07217849), np.float32(0.44038698), np.float32(0.5133933), np.float32(1.0208082), np.float32(0.27287227), np.float32(-0.29992154), np.float32(0.12565175), np.float32(0.071121275), np.float32(-0.21896367), np.float32(-0.032842267), np.float32(0.4670354), np.float32(0.22220317), np.float32(-1.0221729), np.float32(-0.22403534), np.float32(0.24057537), np.float32(-0.23349093), np.float32(0.46731514), np.float32(-0.1859092), np.float32(0.85373414), np.float32(1.3024467), np.float32(-0.7885061), np.float32(-0.26538584), np.float32(0.59564763), np.float32(-0.2789543), np.float32(-0.48935497), np.float32(-0.38440847), np.float32(-0.22172512), np.float32(-0.22230524), np.float32(1.4958922), np.float32(0.9911712), np.float32(-0.44556898), np.float32(-0.67757607), np.float32(-1.3003719), np.float32(-0.64589053), np.float32(-0.47169194), np.float32(-0.24930033), np.float32(0.82758933), np.float32(-1.1838373), np.float32(0.63662386), np.float32(-0.20361772), np.float32(0.7528826), np.float32(0.70353854), np.float32(0.010588482), np.float32(-0.63536584), np.float32(0.25086653), np.float32(0.11783666), np.float32(-0.26189038), np.float32(0.8869289), np.float32(0.37313068), np.float32(-0.029393302), np.float32(0.58440024), np.float32(0.95605385), np.float32(-1.0562307), np.float32(0.9032544), np.float32(0.37818578), np.float32(-0.58670837), np.float32(1.2240546), np.float32(-1.1810073), np.float32(-1.1843822), np.float32(-0.4851581), np.float32(0.19902048), np.float32(0.52057946), np.float32(0.19971183), np.float32(0.37516448), np.float32(-0.2872867), np.float32(-0.74078393), np.float32(0.4787944), np.float32(0.44479206), np.float32(-0.29275322), np.float32(0.21690978), np.float32(-0.472367), np.float32(-0.4303318), np.float32(-0.07965136), np.float32(-1.0331748), np.float32(-1.3157672), np.float32(0.49731082), np.float32(-0.2947951), np.float32(-0.59431595), np.float32(0.8271871), np.float32(0.22881457), np.float32(-0.16355358), np.float32(0.37191713), np.float32(-0.039046388), np.float32(-0.3434266), np.float32(-0.7149424), np.float32(0.14579046), np.float32(-1.1132462), np.float32(0.26725107), np.float32(0.8806331), np.float32(-0.16174936), np.float32(-0.63809806), np.float32(0.15248576), np.float32(0.39931116), np.float32(0.8956702), np.float32(-0.13045166), np.float32(-0.93616074), np.float32(0.29280558), np.float32(0.6396969), np.float32(-0.22145581), np.float32(-2.1041114), np.float32(0.2573165), np.float32(-0.36557224), np.float32(0.3611676), np.float32(-0.30286512), np.float32(0.7496044), np.float32(-0.17478731), np.float32(1.0643001), np.float32(-0.10520208), np.float32(-0.06231876), np.float32(-0.27875122), np.float32(0.7636018), np.float32(-0.3278878), np.float32(1.0719413), np.float32(0.3443506), np.float32(0.59743965), np.float32(-0.80169445), np.float32(-0.25199223), np.float32(0.004600874), np.float32(-0.22068211), np.float32(0.90216756), np.float32(0.7728554), np.float32(-0.8012469), np.float32(0.23065813), np.float32(-0.24410379), np.float32(-0.4464875), np.float32(0.101835266), np.float32(-0.4113654), np.float32(0.22743602), np.float32(-0.26813737), np.float32(-0.54249424), np.float32(-0.050255377), np.float32(-0.43171465), np.float32(1.049484), np.float32(0.117927015), np.float32(-0.54868686), np.float32(-0.0064089494), np.float32(-0.82182354), np.float32(-0.16950758), np.float32(0.8433165), np.float32(-0.3656049), np.float32(-0.2728357), np.float32(0.39542115), np.float32(0.32988006), np.float32(-1.0311043), np.float32(0.48331958), np.float32(0.61781794), np.float32(0.12827621), np.float32(-0.17306975), np.float32(-0.7008878), np.float32(-0.17578039), np.float32(0.19604914), np.float32(0.17076226), np.float32(0.22075954), np.float32(-0.9083979), np.float32(0.33458936), np.float32(0.3022337), np.float32(-0.07640082), np.float32(0.03439904), np.float32(0.09169308), np.float32(-0.9500148), np.float32(0.7672612), np.float32(-0.4167078), np.float32(-0.35991278), np.float32(-0.5074502), np.float32(0.49474096), np.float32(0.17237443), np.float32(1.2934238), np.float32(-0.2746283), np.float32(0.6317373), np.float32(0.6258823), np.float32(-0.17775072), np.float32(-0.8890628), np.float32(0.451988), np.float32(-0.5384293), np.float32(-0.24981514), np.float32(-0.40984493), np.float32(-0.61840796), np.float32(-0.74543667), np.float32(0.055107366), np.float32(0.4744316), np.float32(-0.46059626), np.float32(0.23639308), np.float32(-0.93886304), np.float32(-0.86219585), np.float32(-0.85946673), np.float32(0.011413363), np.float32(-0.67991257), np.float32(-0.29413053), np.float32(-0.2701959), np.float32(0.0060678395), np.float32(0.85675734), np.float32(-0.23949952), np.float32(-0.7923055), np.float32(0.88690287), np.float32(0.40370458), np.float32(-0.42987248), np.float32(0.5350891), np.float32(1.1212748), np.float32(0.76368594), np.float32(-0.5233537), np.float32(1.3511752), np.float32(1.5820954), np.float32(0.5839308), np.float32(-0.57730085), np.float32(-0.40870914), np.float32(0.28413323), np.float32(-0.074612275), np.float32(-0.7073682), np.float32(-0.69753975), np.float32(-0.5355437), np.float32(-0.6044374), np.float32(-0.13317081), np.float32(-0.2632046), np.float32(0.48346737), np.float32(0.049407274), np.float32(0.14532132), np.float32(-0.1550498), np.float32(1.1035291), np.float32(-0.9923716), np.float32(-0.3473681), np.float32(0.899509), np.float32(0.30509958), np.float32(-0.65122956), np.float32(-0.40897113), np.float32(0.8979897), np.float32(0.1959677), np.float32(0.57819045), np.float32(0.18844977), np.float32(-0.11687394), np.float32(0.30006886), np.float32(0.1336227), np.float32(-0.35176703), np.float32(0.5407887), np.float32(0.0078085554), np.float32(-0.85380965), np.float32(-0.6431197), np.float32(-0.55648726), np.float32(-0.31644636), np.float32(-0.5376302), np.float32(-0.7959464), np.float32(-1.3771428), np.float32(0.2007104), np.float32(-0.28443822), np.float32(0.0989364), np.float32(0.5973452), np.float32(0.7561505), np.float32(0.6439478), np.float32(-0.6756834), np.float32(-0.07843467), np.float32(0.806727), np.float32(-0.8435514), np.float32(0.20001541), np.float32(0.5488341), np.float32(1.0545449), np.float32(-0.47317573), np.float32(0.12965018), np.float32(-0.47597924), np.float32(-0.4534808), np.float32(-0.27358994), np.float32(0.09318995), np.float32(-0.9547935), np.float32(-0.31322432), np.float32(-0.72112095), np.float32(0.65758663), np.float32(-0.7942213), np.float32(0.8056023), np.float32(-0.37721437), np.float32(-0.4871107), np.float32(-0.78591025), np.float32(0.26408598), np.float32(0.4910705), np.float32(-1.2109727), np.float32(-1.5458835), np.float32(-0.39515048), np.float32(0.44662043), np.float32(0.40748405), np.float32(0.25381508), np.float32(-1.1621641), np.float32(0.7299755), np.float32(-0.10143114), np.float32(-0.41988403), np.float32(-0.92308915), np.float32(-1.546856), np.float32(0.47056565), np.float32(-0.39146364), np.float32(-0.037879825), np.float32(-0.72561246), np.float32(0.30819473), np.float32(-0.8465633), np.float32(-0.68174016), np.float32(-0.4823935), np.float32(0.63553834), np.float32(-0.55167264), np.float32(0.45983905), np.float32(0.121261545), np.float32(-0.1918151), np.float32(0.10681708), np.float32(0.8550089), np.float32(0.15860993), np.float32(-0.04897852), np.float32(0.4373002), np.float32(0.41233456), np.float32(-1.5197253), np.float32(0.3786446), np.float32(-0.21334524), np.float32(0.32634), np.float32(-0.30763617), np.float32(0.44639307), np.float32(1.6711453), np.float32(0.3028522), np.float32(0.45329383), np.float32(-0.15928303), np.float32(0.7578239), np.float32(-0.5285586), np.float32(-1.0153275), np.float32(-0.8220092), np.float32(-1.0756181), np.float32(0.045412447)], 'key': 'oci_file_key_12345', 'filename': 'sample_document.txt', 'chunk_id': 0, 'text': \"the project began with a comprehensive planning phase, outlining key milestones and resource allocation. the team identified potential challenges, including integration with legacy systems and data migration complexities. as a result, a phased approach was adopted, prioritizing core functionalities. during the development cycle, continuous feedback loops were established with stakeholders. this agile methodology ensured that the project remained aligned with evolving business needs, leading to several key feature enhancements. the team leveraged oci's scalable infrastructure to handle increasing data loads, maintaining a high level of performance and reliability. the final deployment was executed flawlessly, with minimal downtime. the user acceptance testing phase concluded successfully, and the system went live ahead of schedule. the post - launch review highlighted significant improvements in operational efficiency, a testament to the team's meticulous planning and execution. the project began with a comprehensive planning phase, outlining key milestones and resource allocation. the team identified potential challenges, including integration with legacy systems and data migration complexities. as a result, a phased approach was adopted, prioritizing core functionalities. during the development cycle, continuous feedback loops were established with stakeholders. this agile methodology ensured that the project remained aligned with evolving business needs, leading to several key feature enhancements. the team leveraged oci's scalable infrastructure to handle increasing data loads, maintaining a high level of performance and reliability. the final deployment was executed flawlessly, with minimal downtime. the user acceptance testing phase concluded successfully, and the system went live ahead of schedule. the post - launch review highlighted significant improvements in operational efficiency, a testament to the team's meticulous planning and execution. the project began with a comprehensive planning phase, outlining key milestones and resource allocation. the team identified potential challenges, including integration with legacy systems and data migration complexities. as a result, a phased approach was adopted, prioritizing core functionalities. during the development cycle, continuous feedback loops were established with stakeholders. this agile methodology ensured that the project remained aligned with evolving business needs, leading to several key feature enhancements. the team leveraged oci's scalable infrastructure to handle increasing data loads, maintaining a high level of performance and reliability. the final deployment was executed flawlessly, with minimal downtime. the user acceptance testing phase concluded successfully, and the system went live ahead of schedule. the post - launch review highlighted significant improvements in operational efficiency, a testament to the team's meticulous planning and execution. the project began with a comprehensive planning phase, outlining key milestones and resource allocation. the team identified potential challenges, including integration with legacy systems and data migration complexities. as a result, a phased approach was adopted, prioritizing core functionalities. during the development cycle, continuous feedback loops were established with stakeholders. this agile methodology ensured that the project remained aligned with evolving business needs, leading to several key feature enhancements. the team leveraged oci's scalable infrastructure to handle increasing data loads, maintaining a high level of performance and reliability. the final deployment was executed flawlessly, with minimal downtime. the user acceptance testing phase concluded successfully, and the system went live ahead of schedule. the post - launch review highlighted significant improvements in operational efficiency, a testament to the team's meticulous planning and execution. the project began with a comprehensive planning phase, outlining key milestones and resource allocation. the team identified potential challenges, including integration with legacy systems and data migration complexities. as a result, a phased approach was adopted, prioritizing core functionalities. during the development cycle, continuous feedback loops were established with stakeholders. this agile methodology ensured that the project remained aligned with evolving business needs, leading to several key feature enhancements. the team leveraged oci's scalable infrastructure to handle increasing data loads, maintaining a high level of performance and reliability. the final deployment was executed flawlessly, with minimal downtime. the user acceptance testing phase concluded successfully, and the system went live ahead of schedule. the post - launch review highlighted significant improvements in operational efficiency, a testament to the team's meticulous planning and execution. the project began with a comprehensive planning phase, outlining key milestones and resource allocation. the team identified potential challenges, including integration with legacy systems and data migration complexities. as a result, a phased approach was adopted, prioritizing core functionalities. during the development cycle, continuous feedback loops were established with stakeholders. this agile methodology ensured that the project remained aligned with evolving business needs, leading to several key feature enhancements. the team leveraged oci's scalable infrastructure to handle increasing data loads, maintaining a high level of performance and reliability. the final deployment was executed flawlessly, with minimal downtime. the user acceptance testing phase concluded successfully, and the system went live ahead of schedule. the post - launch review highlighted significant improvements in operational efficiency\", 'id': 460278396115230147}\n",
      "{'vector': [np.float32(0.6539587), np.float32(1.0687832), np.float32(-3.040894), np.float32(-0.7102946), np.float32(0.9179153), np.float32(-0.2757798), np.float32(1.289565), np.float32(0.57952535), np.float32(0.40784955), np.float32(-0.11050129), np.float32(-0.12055524), np.float32(0.5692846), np.float32(1.9844854), np.float32(0.63822216), np.float32(0.5129074), np.float32(-0.66863143), np.float32(0.67405564), np.float32(-0.5764611), np.float32(-0.10686956), np.float32(0.75531936), np.float32(0.23567949), np.float32(-1.0235382), np.float32(-0.32812074), np.float32(-0.47367957), np.float32(0.40427992), np.float32(0.58573174), np.float32(0.40295842), np.float32(-0.06530167), np.float32(-0.7350759), np.float32(0.41249177), np.float32(1.4800942), np.float32(0.10237549), np.float32(0.76147604), np.float32(-0.92186385), np.float32(-0.19814403), np.float32(-0.67714643), np.float32(0.67988974), np.float32(-0.586709), np.float32(0.3739968), np.float32(-0.8696097), np.float32(-0.21098435), np.float32(0.4344342), np.float32(0.63507855), np.float32(-0.77335995), np.float32(1.233053), np.float32(-0.1965301), np.float32(0.9819326), np.float32(0.1914036), np.float32(0.48530862), np.float32(-0.9163724), np.float32(0.38816127), np.float32(0.18571755), np.float32(-0.21745008), np.float32(0.5877614), np.float32(1.1781509), np.float32(0.0034877304), np.float32(-0.72702354), np.float32(0.7879148), np.float32(-0.05938026), np.float32(-1.3725804), np.float32(1.579567), np.float32(0.6511398), np.float32(0.03455958), np.float32(0.8194558), np.float32(0.62515527), np.float32(-0.3506764), np.float32(0.15888543), np.float32(0.30769742), np.float32(0.12743933), np.float32(-0.9584156), np.float32(0.49490267), np.float32(-0.5708636), np.float32(-0.59478676), np.float32(-0.36478156), np.float32(-0.23283221), np.float32(0.12682332), np.float32(-0.46586215), np.float32(-1.3205476), np.float32(-0.5014118), np.float32(0.11321896), np.float32(0.79453677), np.float32(-0.239253), np.float32(0.7307075), np.float32(0.01188721), np.float32(0.39867967), np.float32(0.13386203), np.float32(0.39220232), np.float32(-0.3924347), np.float32(-0.89203364), np.float32(1.4833579), np.float32(0.450002), np.float32(0.38469735), np.float32(-0.23326346), np.float32(0.9048386), np.float32(-1.3420062), np.float32(0.7114128), np.float32(-0.21216005), np.float32(0.22810432), np.float32(-0.504921), np.float32(-0.43881458), np.float32(-0.65075314), np.float32(-0.7569259), np.float32(-0.14324346), np.float32(0.2953041), np.float32(0.46337056), np.float32(1.3390708), np.float32(-0.31389946), np.float32(0.09045717), np.float32(-0.10430769), np.float32(0.87746465), np.float32(-1.217111), np.float32(0.4029432), np.float32(-0.91288453), np.float32(0.21560845), np.float32(0.8092994), np.float32(-0.46063423), np.float32(1.5841446), np.float32(-0.8916957), np.float32(-0.39228266), np.float32(0.12782723), np.float32(-0.60479975), np.float32(-0.83698684), np.float32(0.49040455), np.float32(-0.12013227), np.float32(0.6135914), np.float32(0.49951202), np.float32(-1.1943606), np.float32(-0.7957906), np.float32(0.27040967), np.float32(0.25095767), np.float32(-0.43729076), np.float32(-0.3435098), np.float32(-1.0613765), np.float32(-0.13062355), np.float32(0.5333599), np.float32(0.960679), np.float32(-0.5700199), np.float32(-0.49674663), np.float32(-0.114312805), np.float32(0.40558037), np.float32(0.8383576), np.float32(-0.15981439), np.float32(-0.1641585), np.float32(0.00886471), np.float32(0.8344858), np.float32(-0.5074533), np.float32(-0.29994628), np.float32(-0.010119872), np.float32(-0.7039663), np.float32(0.05950843), np.float32(-0.2882825), np.float32(0.17538756), np.float32(0.31947437), np.float32(0.48795208), np.float32(-0.08110062), np.float32(-0.94246787), np.float32(-0.9526801), np.float32(0.08593925), np.float32(0.11076684), np.float32(0.86868715), np.float32(0.8374505), np.float32(-0.091005385), np.float32(-0.6190331), np.float32(0.6052107), np.float32(0.010987012), np.float32(-0.89650583), np.float32(0.14672484), np.float32(-0.5751457), np.float32(1.1995674), np.float32(0.5537854), np.float32(-0.8862986), np.float32(-0.77701175), np.float32(0.47779098), np.float32(-0.72102946), np.float32(0.72068256), np.float32(0.07676162), np.float32(1.5314002), np.float32(-0.12220189), np.float32(0.8226272), np.float32(-0.8008676), np.float32(0.9394568), np.float32(-1.1986418), np.float32(0.38132074), np.float32(0.9433424), np.float32(-0.32958096), np.float32(-0.23894067), np.float32(0.81808126), np.float32(-0.15142378), np.float32(-0.87498516), np.float32(-0.8979179), np.float32(0.3958544), np.float32(-0.058718104), np.float32(-1.1904185), np.float32(0.16302872), np.float32(-1.0805578), np.float32(-0.54073846), np.float32(1.624349), np.float32(-0.48394793), np.float32(0.40339077), np.float32(-1.1715628), np.float32(0.22161478), np.float32(0.42670012), np.float32(-0.63408256), np.float32(0.99907047), np.float32(-0.36710697), np.float32(0.55607885), np.float32(0.13345453), np.float32(0.483806), np.float32(-0.08811379), np.float32(-0.41767994), np.float32(1.0380133), np.float32(-0.0033361674), np.float32(-0.20505814), np.float32(0.8514935), np.float32(0.45039436), np.float32(-0.15611589), np.float32(-0.28047097), np.float32(-0.50080144), np.float32(-0.20030378), np.float32(0.7096062), np.float32(0.32655728), np.float32(-0.5123056), np.float32(-0.5055676), np.float32(0.33233753), np.float32(0.49570665), np.float32(-0.48980615), np.float32(-1.2666103), np.float32(0.03598648), np.float32(-0.69128126), np.float32(-0.12383756), np.float32(-0.26010254), np.float32(-1.142559), np.float32(1.2883271), np.float32(-0.6493178), np.float32(0.27237496), np.float32(0.823088), np.float32(-0.13430673), np.float32(0.36446765), np.float32(0.11972297), np.float32(0.50361776), np.float32(-0.25126), np.float32(-0.12737164), np.float32(0.34192592), np.float32(-0.88832474), np.float32(-0.8164165), np.float32(-0.78654087), np.float32(-0.34527242), np.float32(-0.52764785), np.float32(-0.28758112), np.float32(0.64850867), np.float32(-0.22667667), np.float32(0.90186715), np.float32(0.76898295), np.float32(0.12284096), np.float32(0.37227833), np.float32(-0.88226014), np.float32(-0.6876623), np.float32(0.1441231), np.float32(0.01520109), np.float32(-0.26298344), np.float32(0.38750413), np.float32(-0.21958405), np.float32(0.8262423), np.float32(-0.7153113), np.float32(-0.22272798), np.float32(0.27749443), np.float32(-1.2210169), np.float32(-1.1224393), np.float32(0.41030282), np.float32(-0.39711222), np.float32(0.10648534), np.float32(0.10181417), np.float32(-0.07800387), np.float32(0.9044773), np.float32(0.26847446), np.float32(0.008187202), np.float32(-0.1342477), np.float32(0.43094555), np.float32(0.16336747), np.float32(0.8132022), np.float32(-0.55932295), np.float32(-1.2368183), np.float32(-0.5079212), np.float32(0.7815018), np.float32(-0.30976406), np.float32(0.85610074), np.float32(-0.21209525), np.float32(0.22504182), np.float32(0.34578556), np.float32(0.10383995), np.float32(1.2131212), np.float32(0.56788874), np.float32(0.09059618), np.float32(0.44077647), np.float32(-0.6188191), np.float32(0.10115281), np.float32(1.0839105), np.float32(-1.3870975), np.float32(-0.21607697), np.float32(-0.6475869), np.float32(0.24654233), np.float32(0.71939486), np.float32(1.5412576), np.float32(-0.06511891), np.float32(-0.20307194), np.float32(-0.3313975), np.float32(-0.38799426), np.float32(-0.16631103), np.float32(-0.08525023), np.float32(-0.2843774), np.float32(-0.6376926), np.float32(-0.16769573), np.float32(-1.8699574), np.float32(-0.08979149), np.float32(-0.872844), np.float32(0.07710481), np.float32(0.6909622), np.float32(-0.14610942), np.float32(1.0871276), np.float32(0.12306726), np.float32(-0.0049720774), np.float32(-0.77854776), np.float32(-0.44490448), np.float32(-0.89533925), np.float32(0.77435267), np.float32(0.7110433), np.float32(-0.39674106), np.float32(0.59596705), np.float32(-0.4367575), np.float32(0.77482677), np.float32(0.27456024), np.float32(0.85374373), np.float32(0.94408995), np.float32(-0.69327414), np.float32(-0.14623548), np.float32(0.02731044), np.float32(-0.27553356), np.float32(-0.042339303), np.float32(0.3180671), np.float32(0.6224803), np.float32(1.0375439), np.float32(-0.41473335), np.float32(0.64752495), np.float32(-0.397192), np.float32(-0.63464016), np.float32(-0.049098395), np.float32(0.11872638), np.float32(-0.44698232), np.float32(0.08496654), np.float32(0.24910453), np.float32(-0.3258102), np.float32(0.14302191), np.float32(-0.7050804), np.float32(-0.78528523), np.float32(0.8147083), np.float32(-0.36602014), np.float32(0.110804744), np.float32(0.88972217), np.float32(-0.40686446), np.float32(0.012833881), np.float32(0.7662424), np.float32(0.5849998), np.float32(0.10611094), np.float32(-0.5287674), np.float32(0.19000483), np.float32(1.0066011), np.float32(1.2350006), np.float32(-0.101478405), np.float32(-0.18670501), np.float32(0.2519632), np.float32(-0.110272795), np.float32(-1.0605084), np.float32(-0.798385), np.float32(0.9124469), np.float32(0.5187718), np.float32(0.08929922), np.float32(-0.58005875), np.float32(-0.1004035), np.float32(0.12042225), np.float32(0.72319204), np.float32(1.0178999), np.float32(-0.84833866), np.float32(0.0984805), np.float32(0.10762089), np.float32(-0.13687141), np.float32(-0.39549503), np.float32(0.28485003), np.float32(-0.8688571), np.float32(-0.41285414), np.float32(0.5075701), np.float32(-0.14931378), np.float32(-0.4171583), np.float32(-0.14345889), np.float32(-0.16947913), np.float32(0.5950195), np.float32(0.1294556), np.float32(0.8541732), np.float32(-0.018493596), np.float32(0.27591068), np.float32(1.48922), np.float32(-1.5116132), np.float32(-1.2083654), np.float32(-0.0010497541), np.float32(-0.19584069), np.float32(-0.43530256), np.float32(0.21772622), np.float32(-1.2020376), np.float32(-0.7927469), np.float32(-0.51748496), np.float32(0.23950015), np.float32(0.8980213), np.float32(-0.19763888), np.float32(0.25809455), np.float32(-0.43143466), np.float32(0.012407676), np.float32(-0.069233865), np.float32(1.4934556), np.float32(-0.4725767), np.float32(-0.79749197), np.float32(-0.02665381), np.float32(0.48925477), np.float32(0.50625676), np.float32(0.08129835), np.float32(0.17725727), np.float32(0.30109125), np.float32(0.9075913), np.float32(0.5367537), np.float32(0.7872673), np.float32(-0.25844875), np.float32(-0.855931), np.float32(0.49136272), np.float32(0.7048901), np.float32(0.59556454), np.float32(-0.53312945), np.float32(-0.47646287), np.float32(0.36217615), np.float32(0.7227621), np.float32(-0.23021516), np.float32(0.17795272), np.float32(0.60767365), np.float32(0.69964796), np.float32(-1.1086625), np.float32(-0.70766735), np.float32(-0.55787057), np.float32(0.42748797), np.float32(1.7749375), np.float32(1.0769778), np.float32(-0.043396898), np.float32(-0.79559547), np.float32(0.28200638), np.float32(-0.039747972), np.float32(0.5380864), np.float32(0.78387576), np.float32(0.9158779), np.float32(0.22201633), np.float32(-0.23511995), np.float32(0.21595618), np.float32(-0.044785414), np.float32(-0.26930675), np.float32(0.15550426), np.float32(0.51858115), np.float32(0.4128846), np.float32(-0.89772564), np.float32(-0.115759276), np.float32(0.16442545), np.float32(-0.29109156), np.float32(0.49893287), np.float32(0.050038997), np.float32(0.90698963), np.float32(1.3440748), np.float32(-0.81454974), np.float32(-0.5210809), np.float32(0.717338), np.float32(-0.44087073), np.float32(-0.51784563), np.float32(-0.22805099), np.float32(-0.097782664), np.float32(-0.1755136), np.float32(1.5274739), np.float32(1.0671864), np.float32(-0.07929169), np.float32(-0.5644876), np.float32(-1.199271), np.float32(-0.6127194), np.float32(-0.74213713), np.float32(-0.19785026), np.float32(0.9916104), np.float32(-1.0863564), np.float32(0.4978299), np.float32(-0.15158752), np.float32(0.6964468), np.float32(0.8473985), np.float32(0.049006432), np.float32(-0.61396223), np.float32(0.19501635), np.float32(0.02510993), np.float32(-0.28541943), np.float32(1.0070362), np.float32(0.17709514), np.float32(-0.12674657), np.float32(0.37009022), np.float32(0.6728483), np.float32(-0.8296869), np.float32(0.6413022), np.float32(0.022703772), np.float32(-0.6246968), np.float32(1.0765678), np.float32(-1.4750092), np.float32(-1.2499448), np.float32(-0.48403627), np.float32(-0.0748292), np.float32(0.62963223), np.float32(0.20743038), np.float32(0.5301473), np.float32(-0.20926455), np.float32(-0.78572655), np.float32(0.44611806), np.float32(0.57974595), np.float32(-0.3010514), np.float32(0.22943167), np.float32(-0.42923236), np.float32(-0.47317284), np.float32(0.17157061), np.float32(-0.8052673), np.float32(-1.3087751), np.float32(0.62653905), np.float32(-0.26152247), np.float32(-0.8098519), np.float32(0.85631126), np.float32(-0.01360444), np.float32(-0.04086534), np.float32(0.7593873), np.float32(-0.11666586), np.float32(-0.15751323), np.float32(-0.4721463), np.float32(-0.012255557), np.float32(-1.221544), np.float32(0.2751016), np.float32(0.9582804), np.float32(-0.35229126), np.float32(-0.68165326), np.float32(0.15885147), np.float32(0.36614695), np.float32(0.61379224), np.float32(-0.175035), np.float32(-0.9356969), np.float32(0.10951645), np.float32(0.77813524), np.float32(-0.22768249), np.float32(-2.2031143), np.float32(0.18547538), np.float32(-0.54653525), np.float32(0.26834556), np.float32(-0.4012907), np.float32(0.55917025), np.float32(0.09442553), np.float32(1.0486163), np.float32(0.13952664), np.float32(0.000865254), np.float32(-0.5191244), np.float32(0.7390013), np.float32(-0.21476342), np.float32(1.0907092), np.float32(0.5489098), np.float32(0.47816494), np.float32(-0.68981755), np.float32(-0.2966366), np.float32(0.178698), np.float32(-0.31701183), np.float32(0.5061264), np.float32(0.8432511), np.float32(-0.7662253), np.float32(0.25903702), np.float32(-0.32563472), np.float32(-0.41620618), np.float32(-0.021088468), np.float32(-0.10370701), np.float32(0.19204757), np.float32(-0.12912202), np.float32(-0.51792926), np.float32(0.13123243), np.float32(-0.781545), np.float32(1.2077274), np.float32(0.43215525), np.float32(-0.30348653), np.float32(-0.12921025), np.float32(-0.7514222), np.float32(-0.20026883), np.float32(0.8014206), np.float32(-0.58082765), np.float32(-0.4492946), np.float32(0.2170109), np.float32(0.4764954), np.float32(-0.8761501), np.float32(0.47666776), np.float32(0.6309792), np.float32(0.019868039), np.float32(-0.39214504), np.float32(-0.7042052), np.float32(0.11231417), np.float32(0.037231833), np.float32(0.1383658), np.float32(0.31079197), np.float32(-1.0512173), np.float32(0.41489193), np.float32(0.4282333), np.float32(-0.20214796), np.float32(-0.023626652), np.float32(0.29986614), np.float32(-0.978224), np.float32(0.8263102), np.float32(-0.50394875), np.float32(-0.19780982), np.float32(-0.2628965), np.float32(0.60423785), np.float32(-0.021120438), np.float32(1.213132), np.float32(-0.3960991), np.float32(0.55946374), np.float32(0.6894225), np.float32(-0.26963404), np.float32(-0.9443245), np.float32(0.5888176), np.float32(-0.5658491), np.float32(-0.26838705), np.float32(-0.46642202), np.float32(-0.51054245), np.float32(-0.6586571), np.float32(-0.008369278), np.float32(0.83323187), np.float32(-0.32712564), np.float32(0.45386845), np.float32(-0.91993713), np.float32(-1.031908), np.float32(-0.8535305), np.float32(0.16993907), np.float32(-0.28395864), np.float32(-0.23028187), np.float32(-0.20015778), np.float32(0.027278025), np.float32(1.0653995), np.float32(-0.2139794), np.float32(-0.642881), np.float32(0.9282289), np.float32(0.49561524), np.float32(-0.41582775), np.float32(0.567272), np.float32(1.264286), np.float32(0.8062149), np.float32(-0.65836173), np.float32(1.3338243), np.float32(1.4801004), np.float32(0.6477713), np.float32(-0.4652828), np.float32(-0.15785612), np.float32(0.27006808), np.float32(-0.076177604), np.float32(-0.3536308), np.float32(-0.6712458), np.float32(-0.6207077), np.float32(-0.19482397), np.float32(-0.13611375), np.float32(-0.40393364), np.float32(0.42856732), np.float32(0.24512029), np.float32(0.020752404), np.float32(-0.37946245), np.float32(1.0612447), np.float32(-0.8187016), np.float32(-0.5506164), np.float32(1.0750755), np.float32(0.2683322), np.float32(-0.70353246), np.float32(-0.5171921), np.float32(0.8175198), np.float32(0.4180025), np.float32(0.5824924), np.float32(0.3994742), np.float32(-0.2163022), np.float32(0.40353802), np.float32(-0.08509429), np.float32(-0.58771265), np.float32(0.6191708), np.float32(0.1569935), np.float32(-0.6901688), np.float32(-0.5127289), np.float32(-0.603951), np.float32(-0.48105714), np.float32(-0.44650242), np.float32(-0.75323296), np.float32(-1.3935077), np.float32(0.3151615), np.float32(-0.3478857), np.float32(-0.09376083), np.float32(0.69048345), np.float32(0.49994767), np.float32(0.6901341), np.float32(-0.69560057), np.float32(-0.09162843), np.float32(0.5838434), np.float32(-0.68537945), np.float32(0.41155085), np.float32(0.4628902), np.float32(0.99507165), np.float32(-0.46204865), np.float32(0.30772293), np.float32(-0.5549741), np.float32(-0.46410748), np.float32(-0.39692), np.float32(0.020036122), np.float32(-0.7812592), np.float32(-0.19585481), np.float32(-0.6502433), np.float32(0.6427589), np.float32(-0.6154537), np.float32(0.6954849), np.float32(-0.44975793), np.float32(-0.7966378), np.float32(-0.7357231), np.float32(0.14128046), np.float32(0.6359905), np.float32(-1.392163), np.float32(-1.5996236), np.float32(-0.4594594), np.float32(0.5790731), np.float32(0.42811397), np.float32(0.41142312), np.float32(-0.83691406), np.float32(0.69663185), np.float32(-0.30957317), np.float32(-0.40322992), np.float32(-1.1013335), np.float32(-1.3328279), np.float32(0.65977186), np.float32(-0.39730066), np.float32(0.05369452), np.float32(-0.79240185), np.float32(0.22090389), np.float32(-1.2232689), np.float32(-0.68611103), np.float32(-0.54672533), np.float32(0.67953897), np.float32(-0.5693271), np.float32(0.65110636), np.float32(0.22280309), np.float32(-0.091863014), np.float32(0.10446415), np.float32(0.9488748), np.float32(0.2360422), np.float32(-0.1410705), np.float32(0.5442966), np.float32(0.24360067), np.float32(-1.5838335), np.float32(0.06700966), np.float32(-0.16158935), np.float32(0.46064118), np.float32(-0.15453015), np.float32(0.46900067), np.float32(1.6477016), np.float32(0.2087697), np.float32(0.69230306), np.float32(-0.25671822), np.float32(0.6506226), np.float32(-0.41986975), np.float32(-1.0288502), np.float32(-0.8469249), np.float32(-0.84316546), np.float32(0.13873667)], 'key': 'oci_file_key_12345', 'filename': 'sample_document.txt', 'chunk_id': 1, 'text': \"downtime. the user acceptance testing phase concluded successfully, and the system went live ahead of schedule. the post - launch review highlighted significant improvements in operational efficiency, a testament to the team's meticulous planning and execution. the project began with a comprehensive planning phase, outlining key milestones and resource allocation. the team identified potential challenges, including integration with legacy systems and data migration complexities. as a result, a phased approach was adopted, prioritizing core functionalities. during the development cycle, continuous feedback loops were established with stakeholders. this agile methodology ensured that the project remained aligned with evolving business needs, leading to several key feature enhancements. the team leveraged oci's scalable infrastructure to handle increasing data loads, maintaining a high level of performance and reliability. the final deployment was executed flawlessly, with minimal downtime. the user acceptance testing phase concluded successfully, and the system went live ahead of schedule. the post - launch review highlighted significant improvements in operational efficiency, a testament to the team's meticulous planning and execution. the project began with a comprehensive planning phase, outlining key milestones and resource allocation. the team identified potential challenges, including integration with legacy systems and data migration complexities. as a result, a phased approach was adopted, prioritizing core functionalities. during the development cycle, continuous feedback loops were established with stakeholders. this agile methodology ensured that the project remained aligned with evolving business needs, leading to several key feature enhancements. the team leveraged oci's scalable infrastructure to handle increasing data loads, maintaining a high level of performance and reliability. the final deployment was executed flawlessly, with minimal downtime. the user acceptance testing phase concluded successfully, and the system went live ahead of schedule. the post - launch review highlighted significant improvements in operational efficiency, a testament to the team's meticulous planning and execution. the project began with a comprehensive planning phase, outlining key milestones and resource allocation. the team identified potential challenges, including integration with legacy systems and data migration complexities. as a result, a phased approach was adopted, prioritizing core functionalities. during the development cycle, continuous feedback loops were established with stakeholders. this agile methodology ensured that the project remained aligned with evolving business needs, leading to several key feature enhancements. the team leveraged oci's scalable infrastructure to handle increasing data loads, maintaining a high level of performance and reliability. the final deployment was executed flawlessly, with minimal downtime. the user acceptance testing phase concluded successfully, and the system went live ahead of schedule. the post - launch review highlighted significant improvements in operational efficiency, a testament to the team's meticulous planning and execution. the project began with a comprehensive planning phase, outlining key milestones and resource allocation. the team identified potential challenges, including integration with legacy systems and data migration complexities. as a result, a phased approach was adopted, prioritizing core functionalities. during the development cycle, continuous feedback loops were established with stakeholders. this agile methodology ensured that the project remained aligned with evolving business needs, leading to several key feature enhancements. the team leveraged oci's scalable infrastructure to handle increasing data loads, maintaining a high level of performance and reliability. the final deployment was executed flawlessly, with minimal downtime. the user acceptance testing phase concluded successfully, and the system went live ahead of schedule. the post - launch review highlighted significant improvements in operational efficiency, a testament to the team's meticulous planning and execution. the project began with a comprehensive planning phase, outlining key milestones and resource allocation. the team identified potential challenges, including integration with legacy systems and data migration complexities. as a result, a phased approach was adopted, prioritizing core functionalities. during the development cycle, continuous feedback loops were established with stakeholders. this agile methodology ensured that the project remained aligned with evolving business needs, leading to several key feature enhancements. the team leveraged oci's scalable infrastructure to handle increasing data loads, maintaining a high level of performance and reliability. the final deployment was executed flawlessly, with minimal downtime. the user acceptance testing phase concluded successfully, and the system went live ahead of schedule. the post - launch review highlighted significant improvements in operational efficiency, a testament to the team's meticulous planning and execution.\", 'id': 460278396115230148}\n",
      "{'vector': [np.float32(0.04856626), np.float32(1.6906203), np.float32(-3.3736196), np.float32(-0.7591892), np.float32(1.3649458), np.float32(-0.023207631), np.float32(0.8805849), np.float32(0.2239698), np.float32(0.40616667), np.float32(-0.1843762), np.float32(0.06185113), np.float32(0.548001), np.float32(1.8215475), np.float32(0.057639137), np.float32(0.6504126), np.float32(-0.5406748), np.float32(0.85076195), np.float32(-0.90821546), np.float32(0.38389793), np.float32(0.8703298), np.float32(0.18148243), np.float32(-1.1296633), np.float32(-0.51942426), np.float32(-0.36569217), np.float32(0.5014996), np.float32(0.57713526), np.float32(0.5175766), np.float32(0.2016462), np.float32(-0.6241126), np.float32(0.050273962), np.float32(1.08289), np.float32(0.069907725), np.float32(0.5781797), np.float32(-1.7444651), np.float32(0.16588482), np.float32(-0.42735773), np.float32(-0.27305722), np.float32(-0.3599124), np.float32(0.6610897), np.float32(-0.60565275), np.float32(-0.17546852), np.float32(0.2647053), np.float32(0.57988733), np.float32(-0.88417494), np.float32(1.282563), np.float32(0.011724595), np.float32(0.59581935), np.float32(0.7916167), np.float32(1.2185636), np.float32(-1.000475), np.float32(0.31359333), np.float32(0.16255288), np.float32(-0.6376277), np.float32(0.75502646), np.float32(1.5616037), np.float32(0.25716475), np.float32(-0.5435563), np.float32(0.6807826), np.float32(0.0865268), np.float32(-1.0529513), np.float32(1.0320472), np.float32(0.9150471), np.float32(0.064223334), np.float32(0.7119385), np.float32(0.85341096), np.float32(0.052621), np.float32(-0.08558381), np.float32(0.60089153), np.float32(0.20289207), np.float32(-0.67822677), np.float32(0.28459966), np.float32(-0.42544532), np.float32(-0.3530373), np.float32(-0.40605393), np.float32(-0.25544083), np.float32(0.032934837), np.float32(-0.34196457), np.float32(-1.1645441), np.float32(-0.7800733), np.float32(0.5442634), np.float32(1.363615), np.float32(-0.17903145), np.float32(0.7898028), np.float32(-0.24034543), np.float32(0.9356135), np.float32(0.46850818), np.float32(0.55198354), np.float32(-0.050749302), np.float32(-0.6913487), np.float32(1.6874148), np.float32(0.25428024), np.float32(0.3170935), np.float32(-0.17768686), np.float32(0.9043818), np.float32(-1.7108963), np.float32(-0.0020986514), np.float32(-0.7377976), np.float32(0.6698437), np.float32(-0.35866892), np.float32(-0.3681628), np.float32(-0.7321727), np.float32(-0.27072775), np.float32(-0.33320054), np.float32(0.20437002), np.float32(0.6411597), np.float32(1.2267324), np.float32(-0.19688027), np.float32(0.85333383), np.float32(0.24109009), np.float32(0.70496124), np.float32(-1.1044234), np.float32(0.64745337), np.float32(-0.62411374), np.float32(-0.054164026), np.float32(0.4730573), np.float32(-0.77567285), np.float32(1.7396432), np.float32(-0.74662113), np.float32(-0.35692978), np.float32(0.16614908), np.float32(-0.40231395), np.float32(-0.9084182), np.float32(0.3659663), np.float32(0.19509065), np.float32(0.99897397), np.float32(0.49262103), np.float32(-1.0861146), np.float32(-0.17660438), np.float32(0.020173872), np.float32(-0.2570638), np.float32(-0.2373818), np.float32(-0.29823738), np.float32(-1.035863), np.float32(-0.21895309), np.float32(0.05855913), np.float32(1.2249949), np.float32(-0.8866685), np.float32(-0.55359083), np.float32(-0.33423477), np.float32(0.71133524), np.float32(0.6464307), np.float32(0.12875015), np.float32(-0.5031561), np.float32(0.12731472), np.float32(0.9049283), np.float32(-0.47286394), np.float32(0.10578475), np.float32(0.29335552), np.float32(-0.108427316), np.float32(0.29145676), np.float32(-0.27693105), np.float32(0.508322), np.float32(0.04959658), np.float32(0.200571), np.float32(-0.2206187), np.float32(-0.6509674), np.float32(-0.6273909), np.float32(0.17212375), np.float32(0.38275394), np.float32(0.46105966), np.float32(1.0887899), np.float32(-0.20615233), np.float32(-0.7297905), np.float32(0.15828541), np.float32(-0.08092276), np.float32(-1.2584887), np.float32(0.42785177), np.float32(0.29722464), np.float32(0.88090384), np.float32(0.7432598), np.float32(-0.916571), np.float32(-1.328025), np.float32(0.124917485), np.float32(-0.53513914), np.float32(0.53892326), np.float32(-0.31797555), np.float32(1.3090376), np.float32(0.060734536), np.float32(1.0074799), np.float32(-0.53451794), np.float32(0.47222567), np.float32(-1.1682131), np.float32(-0.20132564), np.float32(0.24768418), np.float32(-0.09543463), np.float32(-0.31973), np.float32(0.58535427), np.float32(-0.54222566), np.float32(-0.53998077), np.float32(-0.4417988), np.float32(0.04462876), np.float32(0.17827958), np.float32(-0.86249393), np.float32(-0.24364239), np.float32(-0.98812497), np.float32(-0.60455596), np.float32(1.434631), np.float32(-0.2820136), np.float32(0.51284415), np.float32(-1.0319349), np.float32(0.28075913), np.float32(0.021745572), np.float32(-0.54712003), np.float32(1.3088161), np.float32(-0.59888643), np.float32(0.8098457), np.float32(-0.36719698), np.float32(0.015304198), np.float32(0.13983694), np.float32(-0.74934095), np.float32(1.4541107), np.float32(-0.039383147), np.float32(-0.46004164), np.float32(0.85519207), np.float32(0.70350695), np.float32(0.1947454), np.float32(0.05906543), np.float32(-0.5638161), np.float32(-0.59598523), np.float32(0.6912771), np.float32(0.33431554), np.float32(-1.0581003), np.float32(-0.24843304), np.float32(-0.09227045), np.float32(0.6256743), np.float32(-0.013900346), np.float32(-1.0242627), np.float32(0.062054697), np.float32(-0.17580241), np.float32(0.17016023), np.float32(-0.14229496), np.float32(-1.101574), np.float32(1.3445938), np.float32(0.074655496), np.float32(0.14078878), np.float32(0.5213562), np.float32(-0.3165545), np.float32(-0.1683191), np.float32(0.04006933), np.float32(0.5311088), np.float32(-0.18075635), np.float32(-0.20618734), np.float32(0.014903808), np.float32(-1.0624176), np.float32(-0.5304243), np.float32(-0.67708164), np.float32(-0.35683277), np.float32(-0.7805764), np.float32(0.04815892), np.float32(0.5146709), np.float32(-0.26948443), np.float32(0.4807749), np.float32(0.2564071), np.float32(0.059234068), np.float32(0.1728296), np.float32(-0.8067325), np.float32(-0.03774347), np.float32(-0.20631076), np.float32(0.105675735), np.float32(-0.17230183), np.float32(-0.15655778), np.float32(-0.59560734), np.float32(1.0360341), np.float32(-0.25002813), np.float32(-0.11136934), np.float32(0.27583563), np.float32(-0.6704121), np.float32(-0.54195243), np.float32(0.052356694), np.float32(-0.08356718), np.float32(0.06276335), np.float32(0.10310351), np.float32(-0.3923166), np.float32(0.95210266), np.float32(0.078694865), np.float32(0.039461333), np.float32(-0.3038154), np.float32(0.26348725), np.float32(-0.6082083), np.float32(0.6903617), np.float32(-0.5051435), np.float32(-0.9676661), np.float32(-1.0505116), np.float32(0.0067926836), np.float32(-0.040608525), np.float32(0.8206309), np.float32(0.1624608), np.float32(-0.45212236), np.float32(0.71139127), np.float32(0.47209167), np.float32(0.9609703), np.float32(0.3814748), np.float32(-0.36849767), np.float32(0.32633692), np.float32(-0.44925165), np.float32(-0.33511463), np.float32(1.5436742), np.float32(-0.85546845), np.float32(0.16840318), np.float32(-0.86861193), np.float32(0.17470561), np.float32(0.8783129), np.float32(1.3228773), np.float32(0.09384955), np.float32(0.09424478), np.float32(-0.10182476), np.float32(-0.36767027), np.float32(-0.3143031), np.float32(0.040386613), np.float32(-0.5811515), np.float32(-0.42174459), np.float32(0.48912823), np.float32(-1.4762965), np.float32(0.040109314), np.float32(-1.0064998), np.float32(-0.13495678), np.float32(0.73674864), np.float32(-0.36150336), np.float32(0.84299207), np.float32(0.031447448), np.float32(0.33908182), np.float32(-0.80140644), np.float32(-0.32563335), np.float32(-0.86153334), np.float32(0.59905154), np.float32(0.6620611), np.float32(-0.011404148), np.float32(0.65398026), np.float32(-0.29818177), np.float32(0.45133594), np.float32(0.500577), np.float32(0.43935275), np.float32(1.0351926), np.float32(-0.40037563), np.float32(0.018107897), np.float32(0.05767898), np.float32(-0.15100574), np.float32(-0.005823672), np.float32(0.09435989), np.float32(0.7804405), np.float32(0.6814395), np.float32(-0.548626), np.float32(0.22300105), np.float32(-1.1271586), np.float32(-0.97940356), np.float32(-0.41804913), np.float32(-0.16501693), np.float32(0.010559304), np.float32(0.20449938), np.float32(-0.17760019), np.float32(-0.7266307), np.float32(0.36175177), np.float32(-0.76137584), np.float32(-0.2045304), np.float32(0.4979853), np.float32(-0.6724694), np.float32(0.4003708), np.float32(1.1668409), np.float32(-0.9491395), np.float32(-0.10274391), np.float32(1.2591544), np.float32(0.30987608), np.float32(0.6011471), np.float32(-0.7006928), np.float32(0.16158709), np.float32(0.47308028), np.float32(1.0501544), np.float32(0.32790315), np.float32(-0.09973433), np.float32(0.18050411), np.float32(-0.12826091), np.float32(-0.52632844), np.float32(-0.39578804), np.float32(1.3198907), np.float32(0.7331812), np.float32(0.02511836), np.float32(-1.0694875), np.float32(-0.41347256), np.float32(0.31799933), np.float32(0.3390941), np.float32(0.6699514), np.float32(-0.2954883), np.float32(0.079702765), np.float32(-0.50112736), np.float32(0.3979672), np.float32(-1.058073), np.float32(0.32340273), np.float32(-0.82604873), np.float32(-0.43133992), np.float32(0.26797962), np.float32(-0.71999466), np.float32(-0.95262265), np.float32(0.0458434), np.float32(-0.07110917), np.float32(0.8135679), np.float32(-0.28750846), np.float32(0.55257875), np.float32(0.011687051), np.float32(0.5557276), np.float32(0.9950916), np.float32(-1.3793662), np.float32(-1.2721292), np.float32(-0.009528501), np.float32(-0.705322), np.float32(-0.1126405), np.float32(0.06959581), np.float32(-0.9301775), np.float32(-0.2826543), np.float32(-0.05542534), np.float32(0.018680306), np.float32(0.43355194), np.float32(0.07638514), np.float32(0.04351601), np.float32(-0.9255132), np.float32(0.12554836), np.float32(0.53376305), np.float32(1.2756331), np.float32(-0.0832659), np.float32(-1.0079792), np.float32(0.3430396), np.float32(0.716128), np.float32(0.7398354), np.float32(0.32847124), np.float32(0.060772654), np.float32(-0.132683), np.float32(0.9084593), np.float32(0.48629734), np.float32(0.86655825), np.float32(-0.25901452), np.float32(-0.653339), np.float32(0.46806177), np.float32(0.17659533), np.float32(0.6304542), np.float32(-0.20762892), np.float32(-0.35332486), np.float32(0.33990517), np.float32(1.1112992), np.float32(0.031918038), np.float32(-0.22144169), np.float32(0.27977523), np.float32(0.58043605), np.float32(-0.59021544), np.float32(-0.3798834), np.float32(-0.33964697), np.float32(0.5497785), np.float32(2.3062387), np.float32(0.8826796), np.float32(0.33248508), np.float32(-1.012397), np.float32(0.46963862), np.float32(0.15418848), np.float32(0.4747841), np.float32(0.8030721), np.float32(0.6379078), np.float32(0.67896813), np.float32(-0.22708887), np.float32(0.092460796), np.float32(0.112273164), np.float32(-0.21485625), np.float32(0.24504891), np.float32(0.15410917), np.float32(0.33117932), np.float32(-0.6043952), np.float32(0.29844284), np.float32(0.39965615), np.float32(-0.28207278), np.float32(0.7265051), np.float32(-0.14751594), np.float32(0.73719114), np.float32(1.709083), np.float32(-0.77867454), np.float32(-0.25037327), np.float32(1.0485407), np.float32(-0.14041403), np.float32(0.016840765), np.float32(-0.5588955), np.float32(-0.44661745), np.float32(0.39274007), np.float32(1.5777645), np.float32(0.8527108), np.float32(-0.18732555), np.float32(-0.27465656), np.float32(-0.9658654), np.float32(-0.84050447), np.float32(-0.65384), np.float32(-0.31259704), np.float32(0.61809075), np.float32(-0.87011844), np.float32(0.44756514), np.float32(-0.5415411), np.float32(0.95718193), np.float32(1.0875726), np.float32(0.1317206), np.float32(-0.324379), np.float32(-0.021472441), np.float32(-0.6143392), np.float32(-0.22670358), np.float32(0.7309343), np.float32(0.025008578), np.float32(-0.48864573), np.float32(0.79352206), np.float32(0.6637302), np.float32(-0.66824603), np.float32(0.24856071), np.float32(-0.17902766), np.float32(-0.5691311), np.float32(0.50013655), np.float32(-1.8971906), np.float32(-1.2812198), np.float32(-0.07939821), np.float32(-0.5131576), np.float32(0.17625591), np.float32(-0.29136008), np.float32(0.53879243), np.float32(-0.0043403837), np.float32(-1.1818744), np.float32(-0.06142164), np.float32(0.43950507), np.float32(-0.13674903), np.float32(0.45658624), np.float32(-0.44436747), np.float32(-0.8111476), np.float32(-0.0058933957), np.float32(-0.052642033), np.float32(-1.1226962), np.float32(0.11891575), np.float32(0.17363419), np.float32(-0.435161), np.float32(0.7706853), np.float32(0.13620326), np.float32(0.48409873), np.float32(1.0544664), np.float32(-0.46962342), np.float32(-0.30922294), np.float32(-0.21785353), np.float32(-0.34230325), np.float32(-0.7210827), np.float32(0.73300123), np.float32(0.9429083), np.float32(0.22474153), np.float32(-0.39717776), np.float32(0.16087878), np.float32(0.16528912), np.float32(0.9793383), np.float32(0.19311005), np.float32(-0.8690302), np.float32(-0.2378375), np.float32(1.6959839), np.float32(-0.08001734), np.float32(-2.0238848), np.float32(0.12198263), np.float32(-0.16489768), np.float32(0.05013446), np.float32(0.019460546), np.float32(1.0635623), np.float32(-0.17772701), np.float32(0.85271204), np.float32(0.21812506), np.float32(-0.34763575), np.float32(-0.6670305), np.float32(0.62994677), np.float32(0.19836086), np.float32(1.228234), np.float32(0.29270655), np.float32(1.0457411), np.float32(-0.40363324), np.float32(-0.8702235), np.float32(0.17767422), np.float32(-0.077421), np.float32(0.41970545), np.float32(0.29993385), np.float32(-0.9134352), np.float32(0.3324347), np.float32(-0.6052428), np.float32(-0.09714274), np.float32(-0.51806015), np.float32(0.036473133), np.float32(-0.2774262), np.float32(-0.45102382), np.float32(-0.73705786), np.float32(0.5891522), np.float32(-1.0015479), np.float32(0.86177015), np.float32(0.372618), np.float32(0.033054117), np.float32(-0.0941375), np.float32(-0.60565484), np.float32(0.047945004), np.float32(1.0563321), np.float32(-1.0021144), np.float32(-0.33805442), np.float32(0.7080514), np.float32(0.7576265), np.float32(-0.88128465), np.float32(0.14890559), np.float32(0.46247214), np.float32(-0.80233884), np.float32(-0.19146597), np.float32(-0.74613047), np.float32(0.44130445), np.float32(-0.2695156), np.float32(0.42770928), np.float32(0.2213191), np.float32(-1.1991935), np.float32(0.5228992), np.float32(0.791176), np.float32(-0.36947235), np.float32(0.019772943), np.float32(0.2715406), np.float32(-1.2403511), np.float32(0.56465477), np.float32(0.13696462), np.float32(-0.08749607), np.float32(-0.37381956), np.float32(0.99703217), np.float32(-0.39994383), np.float32(1.3435326), np.float32(-0.62034553), np.float32(-0.09497265), np.float32(0.23405614), np.float32(-0.03686871), np.float32(-1.0955944), np.float32(0.47007334), np.float32(-0.55620605), np.float32(-0.1270253), np.float32(-0.51492625), np.float32(-0.08485905), np.float32(-0.20524509), np.float32(0.51325494), np.float32(0.60253775), np.float32(-0.21616969), np.float32(0.77450866), np.float32(-0.80709714), np.float32(-1.4864516), np.float32(-1.0135027), np.float32(0.104056165), np.float32(-0.27901104), np.float32(0.0049764942), np.float32(0.11985427), np.float32(0.35136884), np.float32(1.1342282), np.float32(-0.35343072), np.float32(-0.34325507), np.float32(0.6108489), np.float32(0.08963154), np.float32(-0.1273229), np.float32(0.26643336), np.float32(1.691195), np.float32(0.11758928), np.float32(-0.47979212), np.float32(0.9106789), np.float32(1.1567364), np.float32(0.64686584), np.float32(-0.47838828), np.float32(-0.2765709), np.float32(0.22612503), np.float32(-0.20506483), np.float32(-0.74621195), np.float32(-0.5011666), np.float32(-0.8459413), np.float32(-0.60963213), np.float32(-0.1954477), np.float32(-0.74914855), np.float32(0.44537252), np.float32(0.266731), np.float32(-0.4089058), np.float32(-0.27907276), np.float32(0.54642457), np.float32(-1.0395954), np.float32(-0.5945937), np.float32(0.86047345), np.float32(0.052418783), np.float32(-0.42351922), np.float32(-0.32728955), np.float32(0.96732324), np.float32(0.32959345), np.float32(-0.039041795), np.float32(0.30160534), np.float32(-0.6354134), np.float32(0.12280679), np.float32(-0.26556283), np.float32(-0.42077866), np.float32(1.580425), np.float32(0.20526627), np.float32(-0.7149161), np.float32(-0.40075463), np.float32(-0.13863346), np.float32(-0.7371759), np.float32(-0.50308365), np.float32(-1.1785194), np.float32(-0.7143737), np.float32(-0.1274004), np.float32(-0.121904686), np.float32(-0.5023689), np.float32(0.5608045), np.float32(0.37716427), np.float32(0.4596491), np.float32(-0.24149536), np.float32(-0.41350523), np.float32(0.80922675), np.float32(-0.68592376), np.float32(0.5615251), np.float32(0.8720583), np.float32(0.5089438), np.float32(-0.4445641), np.float32(0.3721872), np.float32(-0.65217453), np.float32(-0.6187657), np.float32(-0.12037132), np.float32(-0.2651783), np.float32(-0.5893933), np.float32(-0.21713577), np.float32(-0.12332501), np.float32(0.5658629), np.float32(-0.30209276), np.float32(0.44004452), np.float32(-0.8218393), np.float32(-1.0261853), np.float32(-0.46325698), np.float32(0.072780214), np.float32(0.3559718), np.float32(-1.1656852), np.float32(-0.9662542), np.float32(-0.4592257), np.float32(0.33899), np.float32(0.64133316), np.float32(0.70173377), np.float32(-1.0799071), np.float32(0.39568073), np.float32(-0.74566156), np.float32(-0.08453486), np.float32(-0.7767154), np.float32(-0.8850422), np.float32(0.65415394), np.float32(-0.68519276), np.float32(0.12482393), np.float32(-0.8445604), np.float32(-0.07145572), np.float32(-1.9580401), np.float32(-0.56414366), np.float32(-0.68917966), np.float32(0.5205602), np.float32(-0.93382466), np.float32(0.25921246), np.float32(0.20112899), np.float32(0.19525768), np.float32(0.14179966), np.float32(0.93081397), np.float32(0.40779677), np.float32(-0.35437828), np.float32(0.22443032), np.float32(0.38710082), np.float32(-1.4209473), np.float32(-0.07960216), np.float32(-0.19871871), np.float32(0.63026845), np.float32(-0.38415968), np.float32(0.5437245), np.float32(2.062239), np.float32(0.49488446), np.float32(0.9214775), np.float32(-0.39643666), np.float32(1.0726806), np.float32(-0.48140344), np.float32(-0.9659894), np.float32(-0.7999022), np.float32(-1.0018121), np.float32(-0.23436584)], 'key': 'oci_file_key_12345', 'filename': 'sample_document.txt', 'chunk_id': 2, 'text': \", leading to several key feature enhancements. the team leveraged oci's scalable infrastructure to handle increasing data loads, maintaining a high level of performance and reliability. the final deployment was executed flawlessly, with minimal downtime. the user acceptance testing phase concluded successfully, and the system went live ahead of schedule. the post - launch review highlighted significant improvements in operational efficiency, a testament to the team's meticulous planning and execution.\", 'id': 460278396115230149}\n"
     ]
    }
   ],
   "source": [
    "results = client.query(\n",
    "    collection_name=collection_name,\n",
    "    filter=\"id >= 0\",\n",
    "    limit=10, \n",
    "    output_fields=[\"*\"]  # Use '*' to retrieve all fields, including the vector.\n",
    ")\n",
    "\n",
    "if results:\n",
    "    print(\"Query Results (first 10):\")\n",
    "    for entity in results:\n",
    "        print(entity)\n",
    "else:\n",
    "    print(\"No entities found in the collection.\")"
   ]
  },
  {
   "cell_type": "markdown",
   "id": "233a2573",
   "metadata": {},
   "source": [
    "# Trying chunking and stuff"
   ]
  },
  {
   "cell_type": "code",
   "execution_count": null,
   "id": "3600cf2f",
   "metadata": {},
   "outputs": [
    {
     "name": "stdout",
     "output_type": "stream",
     "text": [
      "Collecting sentence_transformers\n",
      "  Downloading sentence_transformers-5.1.0-py3-none-any.whl.metadata (16 kB)\n",
      "Collecting transformers<5.0.0,>=4.41.0 (from sentence_transformers)\n",
      "  Downloading transformers-4.56.1-py3-none-any.whl.metadata (42 kB)\n",
      "\u001b[2K     \u001b[90m━━━━━━━━━━━━━━━━━━━━━━━━━━━━━━━━━━━━━━━\u001b[0m \u001b[32m42.2/42.2 kB\u001b[0m \u001b[31m525.5 kB/s\u001b[0m eta \u001b[36m0:00:00\u001b[0m \u001b[36m0:00:01\u001b[0m\n",
      "\u001b[?25hRequirement already satisfied: tqdm in /home/alvan/projects/agentic_ai/agent_env/lib/python3.12/site-packages (from sentence_transformers) (4.67.1)\n",
      "Collecting torch>=1.11.0 (from sentence_transformers)\n",
      "  Downloading torch-2.8.0-cp312-cp312-manylinux_2_28_x86_64.whl.metadata (30 kB)\n",
      "Collecting scikit-learn (from sentence_transformers)\n",
      "  Downloading scikit_learn-1.7.2-cp312-cp312-manylinux2014_x86_64.manylinux_2_17_x86_64.whl.metadata (11 kB)\n",
      "Collecting scipy (from sentence_transformers)\n",
      "  Downloading scipy-1.16.2-cp312-cp312-manylinux2014_x86_64.manylinux_2_17_x86_64.whl.metadata (62 kB)\n",
      "\u001b[2K     \u001b[90m━━━━━━━━━━━━━━━━━━━━━━━━━━━━━━━━━━━━━━━━\u001b[0m \u001b[32m62.0/62.0 kB\u001b[0m \u001b[31m1.7 MB/s\u001b[0m eta \u001b[36m0:00:00\u001b[0m\n",
      "\u001b[?25hCollecting huggingface-hub>=0.20.0 (from sentence_transformers)\n",
      "  Downloading huggingface_hub-0.34.4-py3-none-any.whl.metadata (14 kB)\n",
      "Collecting Pillow (from sentence_transformers)\n",
      "  Downloading pillow-11.3.0-cp312-cp312-manylinux_2_27_x86_64.manylinux_2_28_x86_64.whl.metadata (9.0 kB)\n",
      "Collecting typing_extensions>=4.5.0 (from sentence_transformers)\n",
      "  Downloading typing_extensions-4.15.0-py3-none-any.whl.metadata (3.3 kB)\n",
      "Collecting filelock (from huggingface-hub>=0.20.0->sentence_transformers)\n",
      "  Downloading filelock-3.19.1-py3-none-any.whl.metadata (2.1 kB)\n",
      "Collecting fsspec>=2023.5.0 (from huggingface-hub>=0.20.0->sentence_transformers)\n",
      "  Downloading fsspec-2025.9.0-py3-none-any.whl.metadata (10 kB)\n",
      "Requirement already satisfied: packaging>=20.9 in /home/alvan/projects/agentic_ai/agent_env/lib/python3.12/site-packages (from huggingface-hub>=0.20.0->sentence_transformers) (25.0)\n",
      "Collecting pyyaml>=5.1 (from huggingface-hub>=0.20.0->sentence_transformers)\n",
      "  Downloading PyYAML-6.0.2-cp312-cp312-manylinux_2_17_x86_64.manylinux2014_x86_64.whl.metadata (2.1 kB)\n",
      "Collecting requests (from huggingface-hub>=0.20.0->sentence_transformers)\n",
      "  Downloading requests-2.32.5-py3-none-any.whl.metadata (4.9 kB)\n",
      "Collecting hf-xet<2.0.0,>=1.1.3 (from huggingface-hub>=0.20.0->sentence_transformers)\n",
      "  Downloading hf_xet-1.1.10-cp37-abi3-manylinux_2_17_x86_64.manylinux2014_x86_64.whl.metadata (4.7 kB)\n",
      "Requirement already satisfied: setuptools in /home/alvan/projects/agentic_ai/agent_env/lib/python3.12/site-packages (from torch>=1.11.0->sentence_transformers) (80.9.0)\n",
      "Collecting sympy>=1.13.3 (from torch>=1.11.0->sentence_transformers)\n",
      "  Downloading sympy-1.14.0-py3-none-any.whl.metadata (12 kB)\n",
      "Collecting networkx (from torch>=1.11.0->sentence_transformers)\n",
      "  Downloading networkx-3.5-py3-none-any.whl.metadata (6.3 kB)\n",
      "Collecting jinja2 (from torch>=1.11.0->sentence_transformers)\n",
      "  Downloading jinja2-3.1.6-py3-none-any.whl.metadata (2.9 kB)\n",
      "Collecting nvidia-cuda-nvrtc-cu12==12.8.93 (from torch>=1.11.0->sentence_transformers)\n",
      "  Downloading nvidia_cuda_nvrtc_cu12-12.8.93-py3-none-manylinux2010_x86_64.manylinux_2_12_x86_64.whl.metadata (1.7 kB)\n",
      "Collecting nvidia-cuda-runtime-cu12==12.8.90 (from torch>=1.11.0->sentence_transformers)\n",
      "  Downloading nvidia_cuda_runtime_cu12-12.8.90-py3-none-manylinux2014_x86_64.manylinux_2_17_x86_64.whl.metadata (1.7 kB)\n",
      "Collecting nvidia-cuda-cupti-cu12==12.8.90 (from torch>=1.11.0->sentence_transformers)\n",
      "  Downloading nvidia_cuda_cupti_cu12-12.8.90-py3-none-manylinux2014_x86_64.manylinux_2_17_x86_64.whl.metadata (1.7 kB)\n",
      "Collecting nvidia-cudnn-cu12==9.10.2.21 (from torch>=1.11.0->sentence_transformers)\n",
      "  Downloading nvidia_cudnn_cu12-9.10.2.21-py3-none-manylinux_2_27_x86_64.whl.metadata (1.8 kB)\n",
      "Collecting nvidia-cublas-cu12==12.8.4.1 (from torch>=1.11.0->sentence_transformers)\n",
      "  Downloading nvidia_cublas_cu12-12.8.4.1-py3-none-manylinux_2_27_x86_64.whl.metadata (1.7 kB)\n",
      "Collecting nvidia-cufft-cu12==11.3.3.83 (from torch>=1.11.0->sentence_transformers)\n",
      "  Downloading nvidia_cufft_cu12-11.3.3.83-py3-none-manylinux2014_x86_64.manylinux_2_17_x86_64.whl.metadata (1.7 kB)\n",
      "Collecting nvidia-curand-cu12==10.3.9.90 (from torch>=1.11.0->sentence_transformers)\n",
      "  Downloading nvidia_curand_cu12-10.3.9.90-py3-none-manylinux_2_27_x86_64.whl.metadata (1.7 kB)\n",
      "Collecting nvidia-cusolver-cu12==11.7.3.90 (from torch>=1.11.0->sentence_transformers)\n",
      "  Downloading nvidia_cusolver_cu12-11.7.3.90-py3-none-manylinux_2_27_x86_64.whl.metadata (1.8 kB)\n",
      "Collecting nvidia-cusparse-cu12==12.5.8.93 (from torch>=1.11.0->sentence_transformers)\n",
      "  Downloading nvidia_cusparse_cu12-12.5.8.93-py3-none-manylinux2014_x86_64.manylinux_2_17_x86_64.whl.metadata (1.8 kB)\n",
      "Collecting nvidia-cusparselt-cu12==0.7.1 (from torch>=1.11.0->sentence_transformers)\n",
      "  Downloading nvidia_cusparselt_cu12-0.7.1-py3-none-manylinux2014_x86_64.whl.metadata (7.0 kB)\n",
      "Collecting nvidia-nccl-cu12==2.27.3 (from torch>=1.11.0->sentence_transformers)\n",
      "  Downloading nvidia_nccl_cu12-2.27.3-py3-none-manylinux2014_x86_64.manylinux_2_17_x86_64.whl.metadata (2.0 kB)\n",
      "Collecting nvidia-nvtx-cu12==12.8.90 (from torch>=1.11.0->sentence_transformers)\n",
      "  Downloading nvidia_nvtx_cu12-12.8.90-py3-none-manylinux2014_x86_64.manylinux_2_17_x86_64.whl.metadata (1.8 kB)\n",
      "Collecting nvidia-nvjitlink-cu12==12.8.93 (from torch>=1.11.0->sentence_transformers)\n",
      "  Downloading nvidia_nvjitlink_cu12-12.8.93-py3-none-manylinux2010_x86_64.manylinux_2_12_x86_64.whl.metadata (1.7 kB)\n",
      "Collecting nvidia-cufile-cu12==1.13.1.3 (from torch>=1.11.0->sentence_transformers)\n",
      "  Downloading nvidia_cufile_cu12-1.13.1.3-py3-none-manylinux2014_x86_64.manylinux_2_17_x86_64.whl.metadata (1.7 kB)\n",
      "Collecting triton==3.4.0 (from torch>=1.11.0->sentence_transformers)\n",
      "  Downloading triton-3.4.0-cp312-cp312-manylinux_2_27_x86_64.manylinux_2_28_x86_64.whl.metadata (1.7 kB)\n",
      "Requirement already satisfied: numpy>=1.17 in /home/alvan/projects/agentic_ai/agent_env/lib/python3.12/site-packages (from transformers<5.0.0,>=4.41.0->sentence_transformers) (2.3.3)\n",
      "Collecting regex!=2019.12.17 (from transformers<5.0.0,>=4.41.0->sentence_transformers)\n",
      "  Downloading regex-2025.9.1-cp312-cp312-manylinux2014_x86_64.manylinux_2_17_x86_64.manylinux_2_28_x86_64.whl.metadata (40 kB)\n",
      "\u001b[2K     \u001b[90m━━━━━━━━━━━━━━━━━━━━━━━━━━━━━━━━━━━━━━━━\u001b[0m \u001b[32m40.5/40.5 kB\u001b[0m \u001b[31m3.7 MB/s\u001b[0m eta \u001b[36m0:00:00\u001b[0m\n",
      "\u001b[?25hCollecting tokenizers<=0.23.0,>=0.22.0 (from transformers<5.0.0,>=4.41.0->sentence_transformers)\n",
      "  Downloading tokenizers-0.22.0-cp39-abi3-manylinux_2_17_x86_64.manylinux2014_x86_64.whl.metadata (6.8 kB)\n",
      "Collecting safetensors>=0.4.3 (from transformers<5.0.0,>=4.41.0->sentence_transformers)\n",
      "  Downloading safetensors-0.6.2-cp38-abi3-manylinux_2_17_x86_64.manylinux2014_x86_64.whl.metadata (4.1 kB)\n",
      "Collecting joblib>=1.2.0 (from scikit-learn->sentence_transformers)\n",
      "  Downloading joblib-1.5.2-py3-none-any.whl.metadata (5.6 kB)\n",
      "Collecting threadpoolctl>=3.1.0 (from scikit-learn->sentence_transformers)\n",
      "  Downloading threadpoolctl-3.6.0-py3-none-any.whl.metadata (13 kB)\n",
      "Collecting mpmath<1.4,>=1.1.0 (from sympy>=1.13.3->torch>=1.11.0->sentence_transformers)\n",
      "  Downloading mpmath-1.3.0-py3-none-any.whl.metadata (8.6 kB)\n",
      "Collecting MarkupSafe>=2.0 (from jinja2->torch>=1.11.0->sentence_transformers)\n",
      "  Downloading MarkupSafe-3.0.2-cp312-cp312-manylinux_2_17_x86_64.manylinux2014_x86_64.whl.metadata (4.0 kB)\n",
      "Collecting charset_normalizer<4,>=2 (from requests->huggingface-hub>=0.20.0->sentence_transformers)\n",
      "  Downloading charset_normalizer-3.4.3-cp312-cp312-manylinux2014_x86_64.manylinux_2_17_x86_64.manylinux_2_28_x86_64.whl.metadata (36 kB)\n",
      "Collecting idna<4,>=2.5 (from requests->huggingface-hub>=0.20.0->sentence_transformers)\n",
      "  Downloading idna-3.10-py3-none-any.whl.metadata (10 kB)\n",
      "Requirement already satisfied: urllib3<3,>=1.21.1 in /home/alvan/projects/agentic_ai/agent_env/lib/python3.12/site-packages (from requests->huggingface-hub>=0.20.0->sentence_transformers) (2.5.0)\n",
      "Collecting certifi>=2017.4.17 (from requests->huggingface-hub>=0.20.0->sentence_transformers)\n",
      "  Downloading certifi-2025.8.3-py3-none-any.whl.metadata (2.4 kB)\n",
      "Downloading sentence_transformers-5.1.0-py3-none-any.whl (483 kB)\n",
      "\u001b[2K   \u001b[90m━━━━━━━━━━━━━━━━━━━━━━━━━━━━━━━━━━━━━━━━\u001b[0m \u001b[32m483.4/483.4 kB\u001b[0m \u001b[31m9.4 MB/s\u001b[0m eta \u001b[36m0:00:00\u001b[0mta \u001b[36m0:00:01\u001b[0m\n",
      "\u001b[?25hDownloading huggingface_hub-0.34.4-py3-none-any.whl (561 kB)\n",
      "\u001b[2K   \u001b[90m━━━━━━━━━━━━━━━━━━━━━━━━━━━━━━━━━━━━━━━━\u001b[0m \u001b[32m561.5/561.5 kB\u001b[0m \u001b[31m18.6 MB/s\u001b[0m eta \u001b[36m0:00:00\u001b[0m\n",
      "\u001b[?25hDownloading torch-2.8.0-cp312-cp312-manylinux_2_28_x86_64.whl (887.9 MB)\n",
      "\u001b[2K   \u001b[90m━━━━━━━━━━━━━━━━━━━━━━━━━━━━━━━━━━━━━━━━\u001b[0m \u001b[32m887.9/887.9 MB\u001b[0m \u001b[31m4.1 MB/s\u001b[0m eta \u001b[36m0:00:00\u001b[0m:00:01\u001b[0m00:02\u001b[0m\n",
      "\u001b[?25hDownloading nvidia_cublas_cu12-12.8.4.1-py3-none-manylinux_2_27_x86_64.whl (594.3 MB)\n",
      "\u001b[2K   \u001b[90m━━━━━━━━━━━━━━━━━━━━━━━━━━━━━━━━━━━━━━━━\u001b[0m \u001b[32m594.3/594.3 MB\u001b[0m \u001b[31m5.0 MB/s\u001b[0m eta \u001b[36m0:00:00\u001b[0m:00:01\u001b[0m00:01\u001b[0m\n",
      "\u001b[?25hDownloading nvidia_cuda_cupti_cu12-12.8.90-py3-none-manylinux2014_x86_64.manylinux_2_17_x86_64.whl (10.2 MB)\n",
      "\u001b[2K   \u001b[90m━━━━━━━━━━━━━━━━━━━━━━━━━━━━━━━━━━━━━━━━\u001b[0m \u001b[32m10.2/10.2 MB\u001b[0m \u001b[31m21.2 MB/s\u001b[0m eta \u001b[36m0:00:00\u001b[0m00:01\u001b[0m0:01\u001b[0m\n",
      "\u001b[?25hDownloading nvidia_cuda_nvrtc_cu12-12.8.93-py3-none-manylinux2010_x86_64.manylinux_2_12_x86_64.whl (88.0 MB)\n",
      "\u001b[2K   \u001b[90m━━━━━━━━━━━━━━━━━━━━━━━━━━━━━━━━━━━━━━━━\u001b[0m \u001b[32m88.0/88.0 MB\u001b[0m \u001b[31m14.7 MB/s\u001b[0m eta \u001b[36m0:00:00\u001b[0m00:01\u001b[0m00:01\u001b[0m\n",
      "\u001b[?25hDownloading nvidia_cuda_runtime_cu12-12.8.90-py3-none-manylinux2014_x86_64.manylinux_2_17_x86_64.whl (954 kB)\n",
      "\u001b[2K   \u001b[90m━━━━━━━━━━━━━━━━━━━━━━━━━━━━━━━━━━━━━━━━\u001b[0m \u001b[32m954.8/954.8 kB\u001b[0m \u001b[31m20.0 MB/s\u001b[0m eta \u001b[36m0:00:00\u001b[0m00:01\u001b[0m\n",
      "\u001b[?25hDownloading nvidia_cudnn_cu12-9.10.2.21-py3-none-manylinux_2_27_x86_64.whl (706.8 MB)\n",
      "\u001b[2K   \u001b[90m━━━━━━━━━━━━━━━━━━━━━━━━━━━━━━━━━━━━━━━━\u001b[0m \u001b[32m706.8/706.8 MB\u001b[0m \u001b[31m4.3 MB/s\u001b[0m eta \u001b[36m0:00:00\u001b[0m:00:01\u001b[0m00:01\u001b[0m\n",
      "\u001b[?25hDownloading nvidia_cufft_cu12-11.3.3.83-py3-none-manylinux2014_x86_64.manylinux_2_17_x86_64.whl (193.1 MB)\n",
      "\u001b[2K   \u001b[90m━━━━━━━━━━━━━━━━━━━━━━━━━━━━━━━━━━━━━━━━\u001b[0m \u001b[32m193.1/193.1 MB\u001b[0m \u001b[31m13.2 MB/s\u001b[0m eta \u001b[36m0:00:00\u001b[0m00:01\u001b[0m00:01\u001b[0m\n",
      "\u001b[?25hDownloading nvidia_cufile_cu12-1.13.1.3-py3-none-manylinux2014_x86_64.manylinux_2_17_x86_64.whl (1.2 MB)\n",
      "\u001b[2K   \u001b[90m━━━━━━━━━━━━━━━━━━━━━━━━━━━━━━━━━━━━━━━━\u001b[0m \u001b[32m1.2/1.2 MB\u001b[0m \u001b[31m19.0 MB/s\u001b[0m eta \u001b[36m0:00:00\u001b[0ma \u001b[36m0:00:01\u001b[0m\n",
      "\u001b[?25hDownloading nvidia_curand_cu12-10.3.9.90-py3-none-manylinux_2_27_x86_64.whl (63.6 MB)\n",
      "\u001b[2K   \u001b[90m━━━━━━━━━━━━━━━━━━━━━━━━━━━━━━━━━━━━━━━━\u001b[0m \u001b[32m63.6/63.6 MB\u001b[0m \u001b[31m16.9 MB/s\u001b[0m eta \u001b[36m0:00:00\u001b[0m00:01\u001b[0m00:01\u001b[0m\n",
      "\u001b[?25hDownloading nvidia_cusolver_cu12-11.7.3.90-py3-none-manylinux_2_27_x86_64.whl (267.5 MB)\n",
      "\u001b[2K   \u001b[90m━━━━━━━━━━━━━━━━━━━━━━━━━━━━━━━━━━━━━━━━\u001b[0m \u001b[32m267.5/267.5 MB\u001b[0m \u001b[31m2.8 MB/s\u001b[0m eta \u001b[36m0:00:00\u001b[0m00:01\u001b[0mm00:01\u001b[0m\n",
      "\u001b[?25hDownloading nvidia_cusparse_cu12-12.5.8.93-py3-none-manylinux2014_x86_64.manylinux_2_17_x86_64.whl (288.2 MB)\n",
      "\u001b[2K   \u001b[90m━━━━━━━━━━━━━━━━━━━━━━━━━━━━━━━━━━━━━━━━\u001b[0m \u001b[32m288.2/288.2 MB\u001b[0m \u001b[31m9.3 MB/s\u001b[0m eta \u001b[36m0:00:00\u001b[0m:00:01\u001b[0m00:01\u001b[0m\n",
      "\u001b[?25hDownloading nvidia_cusparselt_cu12-0.7.1-py3-none-manylinux2014_x86_64.whl (287.2 MB)\n",
      "\u001b[2K   \u001b[90m━━━━━━━━━━━━━━━━━━━━━━━━━━━━━━━━━━━━━━━━\u001b[0m \u001b[32m287.2/287.2 MB\u001b[0m \u001b[31m6.8 MB/s\u001b[0m eta \u001b[36m0:00:00\u001b[0m:00:01\u001b[0m00:01\u001b[0m\n",
      "\u001b[?25hDownloading nvidia_nccl_cu12-2.27.3-py3-none-manylinux2014_x86_64.manylinux_2_17_x86_64.whl (322.4 MB)\n",
      "\u001b[2K   \u001b[90m━━━━━━━━━━━━━━━━━━━━━━━━━━━━━━━━━━━━━━━━\u001b[0m \u001b[32m322.4/322.4 MB\u001b[0m \u001b[31m4.0 MB/s\u001b[0m eta \u001b[36m0:00:00\u001b[0m:00:01\u001b[0m00:01\u001b[0m\n",
      "\u001b[?25hDownloading nvidia_nvjitlink_cu12-12.8.93-py3-none-manylinux2010_x86_64.manylinux_2_12_x86_64.whl (39.3 MB)\n",
      "\u001b[2K   \u001b[90m━━━━━━━━━━━━━━━━━━━━━━━━━━━━━━━━━━━━━━━━\u001b[0m \u001b[32m39.3/39.3 MB\u001b[0m \u001b[31m19.7 MB/s\u001b[0m eta \u001b[36m0:00:00\u001b[0m00:01\u001b[0m00:01\u001b[0m\n",
      "\u001b[?25hDownloading nvidia_nvtx_cu12-12.8.90-py3-none-manylinux2014_x86_64.manylinux_2_17_x86_64.whl (89 kB)\n",
      "\u001b[2K   \u001b[90m━━━━━━━━━━━━━━━━━━━━━━━━━━━━━━━━━━━━━━━━\u001b[0m \u001b[32m90.0/90.0 kB\u001b[0m \u001b[31m6.9 MB/s\u001b[0m eta \u001b[36m0:00:00\u001b[0m\n",
      "\u001b[?25hDownloading triton-3.4.0-cp312-cp312-manylinux_2_27_x86_64.manylinux_2_28_x86_64.whl (155.6 MB)\n",
      "\u001b[2K   \u001b[90m━━━━━━━━━━━━━━━━━━━━━━━━━━━━━━━━━━━━━━━━\u001b[0m \u001b[32m155.6/155.6 MB\u001b[0m \u001b[31m7.1 MB/s\u001b[0m eta \u001b[36m0:00:00\u001b[0m:00:01\u001b[0m00:01\u001b[0m\n",
      "\u001b[?25hDownloading transformers-4.56.1-py3-none-any.whl (11.6 MB)\n",
      "\u001b[2K   \u001b[90m━━━━━━━━━━━━━━━━━━━━━━━━━━━━━━━━━━━━━━━━\u001b[0m \u001b[32m11.6/11.6 MB\u001b[0m \u001b[31m20.6 MB/s\u001b[0m eta \u001b[36m0:00:00\u001b[0m00:01\u001b[0m00:01\u001b[0m\n",
      "\u001b[?25hDownloading typing_extensions-4.15.0-py3-none-any.whl (44 kB)\n",
      "\u001b[2K   \u001b[90m━━━━━━━━━━━━━━━━━━━━━━━━━━━━━━━━━━━━━━━━\u001b[0m \u001b[32m44.6/44.6 kB\u001b[0m \u001b[31m1.5 MB/s\u001b[0m eta \u001b[36m0:00:00\u001b[0m\n",
      "\u001b[?25hDownloading pillow-11.3.0-cp312-cp312-manylinux_2_27_x86_64.manylinux_2_28_x86_64.whl (6.6 MB)\n",
      "\u001b[2K   \u001b[90m━━━━━━━━━━━━━━━━━━━━━━━━━━━━━━━━━━━━━━━━\u001b[0m \u001b[32m6.6/6.6 MB\u001b[0m \u001b[31m19.2 MB/s\u001b[0m eta \u001b[36m0:00:00\u001b[0m00:01\u001b[0m00:01\u001b[0m\n",
      "\u001b[?25hDownloading scikit_learn-1.7.2-cp312-cp312-manylinux2014_x86_64.manylinux_2_17_x86_64.whl (9.5 MB)\n",
      "\u001b[2K   \u001b[90m━━━━━━━━━━━━━━━━━━━━━━━━━━━━━━━━━━━━━━━━\u001b[0m \u001b[32m9.5/9.5 MB\u001b[0m \u001b[31m21.3 MB/s\u001b[0m eta \u001b[36m0:00:00\u001b[0m00:01\u001b[0m00:01\u001b[0m\n",
      "\u001b[?25hDownloading scipy-1.16.2-cp312-cp312-manylinux2014_x86_64.manylinux_2_17_x86_64.whl (35.7 MB)\n",
      "\u001b[2K   \u001b[90m━━━━━━━━━━━━━━━━━━━━━━━━━━━━━━━━━━━━━━━━\u001b[0m \u001b[32m35.7/35.7 MB\u001b[0m \u001b[31m16.6 MB/s\u001b[0m eta \u001b[36m0:00:00\u001b[0m00:01\u001b[0m00:01\u001b[0m\n",
      "\u001b[?25hDownloading fsspec-2025.9.0-py3-none-any.whl (199 kB)\n",
      "\u001b[2K   \u001b[90m━━━━━━━━━━━━━━━━━━━━━━━━━━━━━━━━━━━━━━━━\u001b[0m \u001b[32m199.3/199.3 kB\u001b[0m \u001b[31m11.3 MB/s\u001b[0m eta \u001b[36m0:00:00\u001b[0m\n",
      "\u001b[?25hDownloading hf_xet-1.1.10-cp37-abi3-manylinux_2_17_x86_64.manylinux2014_x86_64.whl (3.2 MB)\n",
      "\u001b[2K   \u001b[90m━━━━━━━━━━━━━━━━━━━━━━━━━━━━━━━━━━━━━━━━\u001b[0m \u001b[32m3.2/3.2 MB\u001b[0m \u001b[31m16.9 MB/s\u001b[0m eta \u001b[36m0:00:00\u001b[0m00:01\u001b[0m00:01\u001b[0m\n",
      "\u001b[?25hDownloading joblib-1.5.2-py3-none-any.whl (308 kB)\n",
      "\u001b[2K   \u001b[90m━━━━━━━━━━━━━━━━━━━━━━━━━━━━━━━━━━━━━━━━\u001b[0m \u001b[32m308.4/308.4 kB\u001b[0m \u001b[31m21.4 MB/s\u001b[0m eta \u001b[36m0:00:00\u001b[0m\n",
      "\u001b[?25hDownloading PyYAML-6.0.2-cp312-cp312-manylinux_2_17_x86_64.manylinux2014_x86_64.whl (767 kB)\n",
      "\u001b[2K   \u001b[90m━━━━━━━━━━━━━━━━━━━━━━━━━━━━━━━━━━━━━━━━\u001b[0m \u001b[32m767.5/767.5 kB\u001b[0m \u001b[31m17.4 MB/s\u001b[0m eta \u001b[36m0:00:00\u001b[0m00:01\u001b[0m\n",
      "\u001b[?25hDownloading regex-2025.9.1-cp312-cp312-manylinux2014_x86_64.manylinux_2_17_x86_64.manylinux_2_28_x86_64.whl (801 kB)\n",
      "\u001b[2K   \u001b[90m━━━━━━━━━━━━━━━━━━━━━━━━━━━━━━━━━━━━━━━━\u001b[0m \u001b[32m802.0/802.0 kB\u001b[0m \u001b[31m17.3 MB/s\u001b[0m eta \u001b[36m0:00:00\u001b[0m00:01\u001b[0m\n",
      "\u001b[?25hDownloading safetensors-0.6.2-cp38-abi3-manylinux_2_17_x86_64.manylinux2014_x86_64.whl (485 kB)\n",
      "\u001b[2K   \u001b[90m━━━━━━━━━━━━━━━━━━━━━━━━━━━━━━━━━━━━━━━━\u001b[0m \u001b[32m485.8/485.8 kB\u001b[0m \u001b[31m12.9 MB/s\u001b[0m eta \u001b[36m0:00:00\u001b[0m00:01\u001b[0m\n",
      "\u001b[?25hDownloading sympy-1.14.0-py3-none-any.whl (6.3 MB)\n",
      "\u001b[2K   \u001b[90m━━━━━━━━━━━━━━━━━━━━━━━━━━━━━━━━━━━━━━━━\u001b[0m \u001b[32m6.3/6.3 MB\u001b[0m \u001b[31m20.4 MB/s\u001b[0m eta \u001b[36m0:00:00\u001b[0m00:01\u001b[0m00:01\u001b[0m\n",
      "\u001b[?25hDownloading threadpoolctl-3.6.0-py3-none-any.whl (18 kB)\n",
      "Downloading tokenizers-0.22.0-cp39-abi3-manylinux_2_17_x86_64.manylinux2014_x86_64.whl (3.3 MB)\n",
      "\u001b[2K   \u001b[90m━━━━━━━━━━━━━━━━━━━━━━━━━━━━━━━━━━━━━━━━\u001b[0m \u001b[32m3.3/3.3 MB\u001b[0m \u001b[31m15.2 MB/s\u001b[0m eta \u001b[36m0:00:00\u001b[0m00:01\u001b[0m00:01\u001b[0m\n",
      "\u001b[?25hDownloading filelock-3.19.1-py3-none-any.whl (15 kB)\n",
      "Downloading jinja2-3.1.6-py3-none-any.whl (134 kB)\n",
      "\u001b[2K   \u001b[90m━━━━━━━━━━━━━━━━━━━━━━━━━━━━━━━━━━━━━━━━\u001b[0m \u001b[32m134.9/134.9 kB\u001b[0m \u001b[31m4.8 MB/s\u001b[0m eta \u001b[36m0:00:00\u001b[0m\n",
      "\u001b[?25hDownloading networkx-3.5-py3-none-any.whl (2.0 MB)\n",
      "\u001b[2K   \u001b[90m━━━━━━━━━━━━━━━━━━━━━━━━━━━━━━━━━━━━━━━━\u001b[0m \u001b[32m2.0/2.0 MB\u001b[0m \u001b[31m16.9 MB/s\u001b[0m eta \u001b[36m0:00:00\u001b[0m00:01\u001b[0m00:01\u001b[0m\n",
      "\u001b[?25hDownloading requests-2.32.5-py3-none-any.whl (64 kB)\n",
      "\u001b[2K   \u001b[90m━━━━━━━━━━━━━━━━━━━━━━━━━━━━━━━━━━━━━━━━\u001b[0m \u001b[32m64.7/64.7 kB\u001b[0m \u001b[31m3.8 MB/s\u001b[0m eta \u001b[36m0:00:00\u001b[0m\n",
      "\u001b[?25hDownloading certifi-2025.8.3-py3-none-any.whl (161 kB)\n",
      "\u001b[2K   \u001b[90m━━━━━━━━━━━━━━━━━━━━━━━━━━━━━━━━━━━━━━━━\u001b[0m \u001b[32m161.2/161.2 kB\u001b[0m \u001b[31m11.0 MB/s\u001b[0m eta \u001b[36m0:00:00\u001b[0m\n",
      "\u001b[?25hDownloading charset_normalizer-3.4.3-cp312-cp312-manylinux2014_x86_64.manylinux_2_17_x86_64.manylinux_2_28_x86_64.whl (151 kB)\n",
      "\u001b[2K   \u001b[90m━━━━━━━━━━━━━━━━━━━━━━━━━━━━━━━━━━━━━━━━\u001b[0m \u001b[32m151.8/151.8 kB\u001b[0m \u001b[31m8.1 MB/s\u001b[0m eta \u001b[36m0:00:00\u001b[0m\n",
      "\u001b[?25hDownloading idna-3.10-py3-none-any.whl (70 kB)\n",
      "\u001b[2K   \u001b[90m━━━━━━━━━━━━━━━━━━━━━━━━━━━━━━━━━━━━━━━━\u001b[0m \u001b[32m70.4/70.4 kB\u001b[0m \u001b[31m3.5 MB/s\u001b[0m eta \u001b[36m0:00:00\u001b[0m\n",
      "\u001b[?25hDownloading MarkupSafe-3.0.2-cp312-cp312-manylinux_2_17_x86_64.manylinux2014_x86_64.whl (23 kB)\n",
      "Downloading mpmath-1.3.0-py3-none-any.whl (536 kB)\n",
      "\u001b[2K   \u001b[90m━━━━━━━━━━━━━━━━━━━━━━━━━━━━━━━━━━━━━━━━\u001b[0m \u001b[32m536.2/536.2 kB\u001b[0m \u001b[31m12.7 MB/s\u001b[0m eta \u001b[36m0:00:00\u001b[0m00:01\u001b[0m\n",
      "\u001b[?25hInstalling collected packages: nvidia-cusparselt-cu12, mpmath, typing_extensions, triton, threadpoolctl, sympy, scipy, safetensors, regex, pyyaml, Pillow, nvidia-nvtx-cu12, nvidia-nvjitlink-cu12, nvidia-nccl-cu12, nvidia-curand-cu12, nvidia-cufile-cu12, nvidia-cuda-runtime-cu12, nvidia-cuda-nvrtc-cu12, nvidia-cuda-cupti-cu12, nvidia-cublas-cu12, networkx, MarkupSafe, joblib, idna, hf-xet, fsspec, filelock, charset_normalizer, certifi, scikit-learn, requests, nvidia-cusparse-cu12, nvidia-cufft-cu12, nvidia-cudnn-cu12, jinja2, nvidia-cusolver-cu12, huggingface-hub, torch, tokenizers, transformers, sentence_transformers\n",
      "Successfully installed MarkupSafe-3.0.2 Pillow-11.3.0 certifi-2025.8.3 charset_normalizer-3.4.3 filelock-3.19.1 fsspec-2025.9.0 hf-xet-1.1.10 huggingface-hub-0.34.4 idna-3.10 jinja2-3.1.6 joblib-1.5.2 mpmath-1.3.0 networkx-3.5 nvidia-cublas-cu12-12.8.4.1 nvidia-cuda-cupti-cu12-12.8.90 nvidia-cuda-nvrtc-cu12-12.8.93 nvidia-cuda-runtime-cu12-12.8.90 nvidia-cudnn-cu12-9.10.2.21 nvidia-cufft-cu12-11.3.3.83 nvidia-cufile-cu12-1.13.1.3 nvidia-curand-cu12-10.3.9.90 nvidia-cusolver-cu12-11.7.3.90 nvidia-cusparse-cu12-12.5.8.93 nvidia-cusparselt-cu12-0.7.1 nvidia-nccl-cu12-2.27.3 nvidia-nvjitlink-cu12-12.8.93 nvidia-nvtx-cu12-12.8.90 pyyaml-6.0.2 regex-2025.9.1 requests-2.32.5 safetensors-0.6.2 scikit-learn-1.7.2 scipy-1.16.2 sentence_transformers-5.1.0 sympy-1.14.0 threadpoolctl-3.6.0 tokenizers-0.22.0 torch-2.8.0 transformers-4.56.1 triton-3.4.0 typing_extensions-4.15.0\n",
      "Note: you may need to restart the kernel to use updated packages.\n"
     ]
    }
   ],
   "source": [
    "# pip install sentence_transformers"
   ]
  },
  {
   "cell_type": "code",
   "execution_count": 23,
   "id": "399c3d41",
   "metadata": {},
   "outputs": [
    {
     "name": "stdout",
     "output_type": "stream",
     "text": [
      "Collecting einops\n",
      "  Downloading einops-0.8.1-py3-none-any.whl.metadata (13 kB)\n",
      "Downloading einops-0.8.1-py3-none-any.whl (64 kB)\n",
      "\u001b[2K   \u001b[90m━━━━━━━━━━━━━━━━━━━━━━━━━━━━━━━━━━━━━━━━\u001b[0m \u001b[32m64.4/64.4 kB\u001b[0m \u001b[31m1.1 MB/s\u001b[0m eta \u001b[36m0:00:00\u001b[0ma \u001b[36m0:00:01\u001b[0m\n",
      "\u001b[?25hInstalling collected packages: einops\n",
      "Successfully installed einops-0.8.1\n"
     ]
    }
   ],
   "source": [
    "# pip install transformers\n",
    "# !pip install einops"
   ]
  },
  {
   "cell_type": "code",
   "execution_count": 17,
   "id": "125fdbef",
   "metadata": {},
   "outputs": [
    {
     "name": "stderr",
     "output_type": "stream",
     "text": [
      "/home/alvan/projects/agentic_ai/agent_env/lib/python3.12/site-packages/tqdm/auto.py:21: TqdmWarning: IProgress not found. Please update jupyter and ipywidgets. See https://ipywidgets.readthedocs.io/en/stable/user_install.html\n",
      "  from .autonotebook import tqdm as notebook_tqdm\n"
     ]
    }
   ],
   "source": [
    "import os\n",
    "import json\n",
    "import logging\n",
    "from typing import List, Dict\n",
    "\n",
    "# This is a key library for RAG. It handles the model downloading and embedding.\n",
    "# Note: The first time this code runs, it will download the model weights.\n",
    "from sentence_transformers import SentenceTransformer\n",
    "\n",
    "# This library provides the tokenizer for token counting. It's crucial for accurate\n",
    "# token limits, as different models have different tokenization rules.\n",
    "from transformers import AutoTokenizer"
   ]
  },
  {
   "cell_type": "code",
   "execution_count": 29,
   "id": "0cf0eec3",
   "metadata": {},
   "outputs": [],
   "source": [
    "from pymilvus import (\n",
    "    MilvusClient,\n",
    "    DataType,\n",
    "    connections,\n",
    "    CollectionSchema,\n",
    "    FieldSchema,\n",
    "    Collection\n",
    ")"
   ]
  },
  {
   "cell_type": "code",
   "execution_count": 31,
   "id": "2ed08019",
   "metadata": {},
   "outputs": [],
   "source": [
    "MILVUS_HOST = MILVUS_HOST\n",
    "MILVUS_PORT = MILVUS_PORT\n",
    "COLLECTION_NAME = COLLECTION_NAME"
   ]
  },
  {
   "cell_type": "code",
   "execution_count": 18,
   "id": "39280569",
   "metadata": {},
   "outputs": [],
   "source": [
    "logging.basicConfig(level=logging.INFO, format='%(asctime)s - %(levelname)s - %(message)s')"
   ]
  },
  {
   "cell_type": "code",
   "execution_count": 20,
   "id": "5068ec7c",
   "metadata": {},
   "outputs": [],
   "source": [
    "# --- Configuration ---\n",
    "# Your chosen model and its specifications\n",
    "MODEL_NAME = 'nomic-ai/nomic-embed-text-v1.5'\n",
    "MAX_TOKENS = 8192\n",
    "VECTOR_DIMENSION = 768\n",
    "# Recommended overlap is 10-20% of chunk size.\n",
    "# For a 1000 token chunk size, a 200 token overlap is a good starting point.\n",
    "CHUNK_SIZE = 1000  \n",
    "CHUNK_OVERLAP = 200\n",
    "\n",
    "SEARCH_DOCUMENT_PREFIX = \"search_document: \""
   ]
  },
  {
   "cell_type": "code",
   "execution_count": 24,
   "id": "464751d2",
   "metadata": {},
   "outputs": [
    {
     "name": "stderr",
     "output_type": "stream",
     "text": [
      "2025-09-13 02:01:39,060 - INFO - Loading embedding model and tokenizer...\n",
      "2025-09-13 02:01:39,089 - INFO - Use pytorch device_name: cpu\n",
      "2025-09-13 02:01:39,090 - INFO - Load pretrained SentenceTransformer: nomic-ai/nomic-embed-text-v1.5\n",
      "2025-09-13 02:02:08,042 - WARNING - <All keys matched successfully>\n"
     ]
    }
   ],
   "source": [
    "logging.info(\"Loading embedding model and tokenizer...\")\n",
    "try:\n",
    "    model = SentenceTransformer(MODEL_NAME, trust_remote_code=True)\n",
    "    tokenizer = AutoTokenizer.from_pretrained(MODEL_NAME, trust_remote_code=True)\n",
    "except Exception as e:\n",
    "    logging.error(f\"Failed to load model or tokenizer: {e}\")\n",
    "    # In a real OCI Function, you might want to raise an exception to signal a failure\n",
    "    raise e"
   ]
  },
  {
   "cell_type": "code",
   "execution_count": 25,
   "id": "b9382eda",
   "metadata": {},
   "outputs": [],
   "source": [
    "def chunk_text(text: str, chunk_size: int, chunk_overlap: int) -> List[str]:\n",
    "    \"\"\"\n",
    "    Splits a large text into smaller chunks with a specified overlap.\n",
    "    This implementation uses a simple token-based sliding window approach\n",
    "    to ensure precise control over chunk and overlap size.\n",
    "    \"\"\"\n",
    "    logging.info(f\"Splitting text into chunks of size {chunk_size} with overlap of {chunk_overlap}.\")\n",
    "    \n",
    "    tokens = tokenizer.encode(text)\n",
    "    token_count = len(tokens)\n",
    "    \n",
    "    chunks = []\n",
    "    \n",
    "    # Check if the entire text already fits within a single chunk\n",
    "    if token_count <= chunk_size:\n",
    "        return [text]\n",
    "\n",
    "    # Use a sliding window to create chunks with overlap\n",
    "    for i in range(0, token_count, chunk_size - chunk_overlap):\n",
    "        chunk_tokens = tokens[i : i + chunk_size]\n",
    "        chunk_text = tokenizer.decode(chunk_tokens, skip_special_tokens=True)\n",
    "        chunks.append(chunk_text)\n",
    "\n",
    "    logging.info(f\"Original text split into {len(chunks)} chunks.\")\n",
    "    return chunks"
   ]
  },
  {
   "cell_type": "code",
   "execution_count": 26,
   "id": "1377d9da",
   "metadata": {},
   "outputs": [],
   "source": [
    "def convert_to_vectors(key: str, filename: str, full_text: str) -> List[Dict]:\n",
    "    \"\"\"\n",
    "    Takes a file key, filename, and the full text of a document, chunks it,\n",
    "    and returns a list of dictionaries ready for Milvus insertion.\n",
    "    \"\"\"\n",
    "    if not full_text:\n",
    "        logging.warning(\"Input text is empty. Skipping vectorization.\")\n",
    "        return []\n",
    "\n",
    "    # Chunk the raw text to ensure each piece fits the model's token limit\n",
    "    chunks = chunk_text(full_text, CHUNK_SIZE, CHUNK_OVERLAP)\n",
    "    \n",
    "    milvus_payload = []\n",
    "\n",
    "    for i, chunk in enumerate(chunks):\n",
    "        # Apply the task-specific prefix for RAG\n",
    "        prefixed_chunk = SEARCH_DOCUMENT_PREFIX + chunk\n",
    "        \n",
    "        # Generate the vector embedding\n",
    "        try:\n",
    "            vector = model.encode(prefixed_chunk).tolist()\n",
    "        except Exception as e:\n",
    "            logging.error(f\"Failed to encode chunk for {filename}, chunk {i}: {e}\")\n",
    "            continue\n",
    "\n",
    "        # Prepare the payload for insertion into Milvus\n",
    "        # This structure matches the mental model of a vector database we discussed\n",
    "        payload_entry = {\n",
    "            \"key\": key,\n",
    "            \"filename\": filename,\n",
    "            \"chunk_id\": i,\n",
    "            \"text\": chunk, \n",
    "            \"vector\": vector,\n",
    "        }\n",
    "        milvus_payload.append(payload_entry)\n",
    "        \n",
    "    logging.info(f\"Created a total of {len(milvus_payload)} vectors for file '{filename}'.\")\n",
    "    return milvus_payload"
   ]
  },
  {
   "cell_type": "code",
   "execution_count": 28,
   "id": "538bf9ab",
   "metadata": {},
   "outputs": [],
   "source": [
    "def insert_to_milvus(payload: List[Dict]):\n",
    "    \"\"\"\n",
    "    Connects to Milvus and inserts the payload.\n",
    "    \"\"\"\n",
    "    if not payload:\n",
    "        logging.info(\"Payload is empty. Skipping Milvus insertion.\")\n",
    "        return\n",
    "\n",
    "    try:\n",
    "        logging.info(f\"Connecting to Milvus at {MILVUS_HOST}:{MILVUS_PORT}...\")\n",
    "        client = MilvusClient(\n",
    "            uri=f\"http://{MILVUS_HOST}:{MILVUS_PORT}\"\n",
    "        )\n",
    "        \n",
    "        logging.info(f\"Inserting {len(payload)} vectors into collection '{COLLECTION_NAME}'...\")\n",
    "        # The Milvus `insert` method is used here. It will automatically\n",
    "        # create a new ID for each record since the collection has auto_id=True.\n",
    "        # It also handles dynamic fields.\n",
    "        client.insert(\n",
    "            collection_name=COLLECTION_NAME,\n",
    "            data=payload\n",
    "        )\n",
    "        \n",
    "        logging.info(\"Data insertion successful.\")\n",
    "        \n",
    "    except Exception as e:\n",
    "        logging.error(f\"An error occurred during Milvus insertion: {e}\")\n",
    "        raise e"
   ]
  },
  {
   "cell_type": "code",
   "execution_count": 32,
   "id": "64ba2a1d",
   "metadata": {},
   "outputs": [
    {
     "name": "stderr",
     "output_type": "stream",
     "text": [
      "2025-09-13 02:14:06,762 - INFO - Splitting text into chunks of size 1000 with overlap of 200.\n",
      "2025-09-13 02:14:06,783 - INFO - Original text split into 3 chunks.\n",
      "Batches: 100%|██████████| 1/1 [00:01<00:00,  1.76s/it]\n",
      "Batches: 100%|██████████| 1/1 [00:01<00:00,  1.05s/it]\n",
      "Batches: 100%|██████████| 1/1 [00:00<00:00,  6.51it/s]\n",
      "2025-09-13 02:14:09,784 - INFO - Created a total of 3 vectors for file 'sample_document.txt'.\n",
      "2025-09-13 02:14:09,785 - INFO - Connecting to Milvus at 170.9.235.61:19530...\n",
      "2025-09-13 02:14:09,925 - INFO - Inserting 3 vectors into collection 'energy_vector'...\n",
      "2025-09-13 02:14:10,040 - INFO - Data insertion successful.\n"
     ]
    }
   ],
   "source": [
    "example_key = \"oci_file_key_12345\"\n",
    "example_filename = \"sample_document.txt\"\n",
    "long_text = \"\"\"\n",
    "The project began with a comprehensive planning phase, outlining key milestones and resource allocation. The team identified potential challenges, including integration with legacy systems and data migration complexities. As a result, a phased approach was adopted, prioritizing core functionalities.\n",
    "\n",
    "During the development cycle, continuous feedback loops were established with stakeholders. This agile methodology ensured that the project remained aligned with evolving business needs, leading to several key feature enhancements. The team leveraged OCI's scalable infrastructure to handle increasing data loads, maintaining a high level of performance and reliability.\n",
    "\n",
    "The final deployment was executed flawlessly, with minimal downtime. The user acceptance testing phase concluded successfully, and the system went live ahead of schedule. The post-launch review highlighted significant improvements in operational efficiency, a testament to the team's meticulous planning and execution.\n",
    "\"\"\" * 10 # Create a long document for demonstration purposes\n",
    "\n",
    "# This is the function that would be called by your 'autochecker'\n",
    "vectors_for_milvus = convert_to_vectors(example_key, example_filename, long_text)\n",
    "\n",
    "# Insert the generated payload into Milvus\n",
    "try:\n",
    "    insert_to_milvus(vectors_for_milvus)\n",
    "except Exception as e:\n",
    "    print(f\"Failed to insert data into Milvus: {e}\")\n",
    "    \n",
    "# # Print the resulting payload to simulate what would be sent to Milvus\n",
    "# if vectors_for_milvus:\n",
    "#     print(\"\\n--- Example Output (simulating Milvus payload) ---\")\n",
    "#     print(f\"Total chunks created: {len(vectors_for_milvus)}\")\n",
    "#     for item in vectors_for_milvus:\n",
    "#         # Show a slice of the vector and the chunk text for demonstration\n",
    "#         print(\"-\" * 50)\n",
    "#         print(f\"Key: {item['key']}\")\n",
    "#         print(f\"Filename: {item['filename']}\")\n",
    "#         print(f\"Chunk ID: {item['chunk_id']}\")\n",
    "#         print(f\"Chunk Text (first 100 chars): {item['text'][:100]}...\")\n",
    "#         print(f\"Vector (first 5 values): {item['vector'][:5]}...\")\n",
    "#         print(f\"Vector Size: {len(item['vector'])}\")\n",
    "        \n",
    "#     print(\"\\nPayload ready for Milvus insertion.\")\n",
    "# else:\n",
    "#     print(\"No vectors were created.\")\n"
   ]
  },
  {
   "cell_type": "code",
   "execution_count": null,
   "id": "8e50deec",
   "metadata": {},
   "outputs": [],
   "source": []
  }
 ],
 "metadata": {
  "kernelspec": {
   "display_name": "agent_env",
   "language": "python",
   "name": "python3"
  },
  "language_info": {
   "codemirror_mode": {
    "name": "ipython",
    "version": 3
   },
   "file_extension": ".py",
   "mimetype": "text/x-python",
   "name": "python",
   "nbconvert_exporter": "python",
   "pygments_lexer": "ipython3",
   "version": "3.12.3"
  }
 },
 "nbformat": 4,
 "nbformat_minor": 5
}
